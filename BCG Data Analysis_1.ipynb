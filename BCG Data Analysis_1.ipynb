{
 "cells": [
  {
   "cell_type": "code",
   "execution_count": 1,
   "id": "a0cfb008",
   "metadata": {},
   "outputs": [],
   "source": [
    "import pandas as pd\n",
    "import numpy as np \n",
    "import matplotlib.pyplot as plt\n",
    "import seaborn as sns"
   ]
  },
  {
   "cell_type": "code",
   "execution_count": 2,
   "id": "1831ead0",
   "metadata": {},
   "outputs": [],
   "source": [
    "train_data=pd.read_csv('ml_case_training_data.csv')\n",
    "train_out=pd.read_csv('ml_case_training_output.csv')\n",
    "train_hist=pd.read_csv('ml_case_training_hist_data.csv')"
   ]
  },
  {
   "cell_type": "code",
   "execution_count": 3,
   "id": "0a0902f8",
   "metadata": {},
   "outputs": [
    {
     "data": {
      "text/html": [
       "<div>\n",
       "<style scoped>\n",
       "    .dataframe tbody tr th:only-of-type {\n",
       "        vertical-align: middle;\n",
       "    }\n",
       "\n",
       "    .dataframe tbody tr th {\n",
       "        vertical-align: top;\n",
       "    }\n",
       "\n",
       "    .dataframe thead th {\n",
       "        text-align: right;\n",
       "    }\n",
       "</style>\n",
       "<table border=\"1\" class=\"dataframe\">\n",
       "  <thead>\n",
       "    <tr style=\"text-align: right;\">\n",
       "      <th></th>\n",
       "      <th>id</th>\n",
       "      <th>activity_new</th>\n",
       "      <th>campaign_disc_ele</th>\n",
       "      <th>channel_sales</th>\n",
       "      <th>cons_12m</th>\n",
       "      <th>cons_gas_12m</th>\n",
       "      <th>cons_last_month</th>\n",
       "      <th>date_activ</th>\n",
       "      <th>date_end</th>\n",
       "      <th>date_first_activ</th>\n",
       "      <th>...</th>\n",
       "      <th>forecast_price_pow_p1</th>\n",
       "      <th>has_gas</th>\n",
       "      <th>imp_cons</th>\n",
       "      <th>margin_gross_pow_ele</th>\n",
       "      <th>margin_net_pow_ele</th>\n",
       "      <th>nb_prod_act</th>\n",
       "      <th>net_margin</th>\n",
       "      <th>num_years_antig</th>\n",
       "      <th>origin_up</th>\n",
       "      <th>pow_max</th>\n",
       "    </tr>\n",
       "  </thead>\n",
       "  <tbody>\n",
       "    <tr>\n",
       "      <th>0</th>\n",
       "      <td>48ada52261e7cf58715202705a0451c9</td>\n",
       "      <td>esoiiifxdlbkcsluxmfuacbdckommixw</td>\n",
       "      <td>NaN</td>\n",
       "      <td>lmkebamcaaclubfxadlmueccxoimlema</td>\n",
       "      <td>309275</td>\n",
       "      <td>0</td>\n",
       "      <td>10025</td>\n",
       "      <td>2012-11-07</td>\n",
       "      <td>2016-11-06</td>\n",
       "      <td>NaN</td>\n",
       "      <td>...</td>\n",
       "      <td>58.995952</td>\n",
       "      <td>f</td>\n",
       "      <td>831.8</td>\n",
       "      <td>-41.76</td>\n",
       "      <td>-41.76</td>\n",
       "      <td>1</td>\n",
       "      <td>1732.36</td>\n",
       "      <td>3</td>\n",
       "      <td>ldkssxwpmemidmecebumciepifcamkci</td>\n",
       "      <td>180.000</td>\n",
       "    </tr>\n",
       "    <tr>\n",
       "      <th>1</th>\n",
       "      <td>24011ae4ebbe3035111d65fa7c15bc57</td>\n",
       "      <td>NaN</td>\n",
       "      <td>NaN</td>\n",
       "      <td>foosdfpfkusacimwkcsosbicdxkicaua</td>\n",
       "      <td>0</td>\n",
       "      <td>54946</td>\n",
       "      <td>0</td>\n",
       "      <td>2013-06-15</td>\n",
       "      <td>2016-06-15</td>\n",
       "      <td>NaN</td>\n",
       "      <td>...</td>\n",
       "      <td>40.606701</td>\n",
       "      <td>t</td>\n",
       "      <td>0.0</td>\n",
       "      <td>25.44</td>\n",
       "      <td>25.44</td>\n",
       "      <td>2</td>\n",
       "      <td>678.99</td>\n",
       "      <td>3</td>\n",
       "      <td>lxidpiddsbxsbosboudacockeimpuepw</td>\n",
       "      <td>43.648</td>\n",
       "    </tr>\n",
       "    <tr>\n",
       "      <th>2</th>\n",
       "      <td>d29c2c54acc38ff3c0614d0a653813dd</td>\n",
       "      <td>NaN</td>\n",
       "      <td>NaN</td>\n",
       "      <td>NaN</td>\n",
       "      <td>4660</td>\n",
       "      <td>0</td>\n",
       "      <td>0</td>\n",
       "      <td>2009-08-21</td>\n",
       "      <td>2016-08-30</td>\n",
       "      <td>NaN</td>\n",
       "      <td>...</td>\n",
       "      <td>44.311378</td>\n",
       "      <td>f</td>\n",
       "      <td>0.0</td>\n",
       "      <td>16.38</td>\n",
       "      <td>16.38</td>\n",
       "      <td>1</td>\n",
       "      <td>18.89</td>\n",
       "      <td>6</td>\n",
       "      <td>kamkkxfxxuwbdslkwifmmcsiusiuosws</td>\n",
       "      <td>13.800</td>\n",
       "    </tr>\n",
       "    <tr>\n",
       "      <th>3</th>\n",
       "      <td>764c75f661154dac3a6c254cd082ea7d</td>\n",
       "      <td>NaN</td>\n",
       "      <td>NaN</td>\n",
       "      <td>foosdfpfkusacimwkcsosbicdxkicaua</td>\n",
       "      <td>544</td>\n",
       "      <td>0</td>\n",
       "      <td>0</td>\n",
       "      <td>2010-04-16</td>\n",
       "      <td>2016-04-16</td>\n",
       "      <td>NaN</td>\n",
       "      <td>...</td>\n",
       "      <td>44.311378</td>\n",
       "      <td>f</td>\n",
       "      <td>0.0</td>\n",
       "      <td>28.60</td>\n",
       "      <td>28.60</td>\n",
       "      <td>1</td>\n",
       "      <td>6.60</td>\n",
       "      <td>6</td>\n",
       "      <td>kamkkxfxxuwbdslkwifmmcsiusiuosws</td>\n",
       "      <td>13.856</td>\n",
       "    </tr>\n",
       "    <tr>\n",
       "      <th>4</th>\n",
       "      <td>bba03439a292a1e166f80264c16191cb</td>\n",
       "      <td>NaN</td>\n",
       "      <td>NaN</td>\n",
       "      <td>lmkebamcaaclubfxadlmueccxoimlema</td>\n",
       "      <td>1584</td>\n",
       "      <td>0</td>\n",
       "      <td>0</td>\n",
       "      <td>2010-03-30</td>\n",
       "      <td>2016-03-30</td>\n",
       "      <td>NaN</td>\n",
       "      <td>...</td>\n",
       "      <td>44.311378</td>\n",
       "      <td>f</td>\n",
       "      <td>0.0</td>\n",
       "      <td>30.22</td>\n",
       "      <td>30.22</td>\n",
       "      <td>1</td>\n",
       "      <td>25.46</td>\n",
       "      <td>6</td>\n",
       "      <td>kamkkxfxxuwbdslkwifmmcsiusiuosws</td>\n",
       "      <td>13.200</td>\n",
       "    </tr>\n",
       "  </tbody>\n",
       "</table>\n",
       "<p>5 rows × 32 columns</p>\n",
       "</div>"
      ],
      "text/plain": [
       "                                 id                      activity_new  \\\n",
       "0  48ada52261e7cf58715202705a0451c9  esoiiifxdlbkcsluxmfuacbdckommixw   \n",
       "1  24011ae4ebbe3035111d65fa7c15bc57                               NaN   \n",
       "2  d29c2c54acc38ff3c0614d0a653813dd                               NaN   \n",
       "3  764c75f661154dac3a6c254cd082ea7d                               NaN   \n",
       "4  bba03439a292a1e166f80264c16191cb                               NaN   \n",
       "\n",
       "   campaign_disc_ele                     channel_sales  cons_12m  \\\n",
       "0                NaN  lmkebamcaaclubfxadlmueccxoimlema    309275   \n",
       "1                NaN  foosdfpfkusacimwkcsosbicdxkicaua         0   \n",
       "2                NaN                               NaN      4660   \n",
       "3                NaN  foosdfpfkusacimwkcsosbicdxkicaua       544   \n",
       "4                NaN  lmkebamcaaclubfxadlmueccxoimlema      1584   \n",
       "\n",
       "   cons_gas_12m  cons_last_month  date_activ    date_end date_first_activ  \\\n",
       "0             0            10025  2012-11-07  2016-11-06              NaN   \n",
       "1         54946                0  2013-06-15  2016-06-15              NaN   \n",
       "2             0                0  2009-08-21  2016-08-30              NaN   \n",
       "3             0                0  2010-04-16  2016-04-16              NaN   \n",
       "4             0                0  2010-03-30  2016-03-30              NaN   \n",
       "\n",
       "   ... forecast_price_pow_p1 has_gas  imp_cons  margin_gross_pow_ele  \\\n",
       "0  ...             58.995952       f     831.8                -41.76   \n",
       "1  ...             40.606701       t       0.0                 25.44   \n",
       "2  ...             44.311378       f       0.0                 16.38   \n",
       "3  ...             44.311378       f       0.0                 28.60   \n",
       "4  ...             44.311378       f       0.0                 30.22   \n",
       "\n",
       "   margin_net_pow_ele  nb_prod_act  net_margin  num_years_antig  \\\n",
       "0              -41.76            1     1732.36                3   \n",
       "1               25.44            2      678.99                3   \n",
       "2               16.38            1       18.89                6   \n",
       "3               28.60            1        6.60                6   \n",
       "4               30.22            1       25.46                6   \n",
       "\n",
       "                          origin_up  pow_max  \n",
       "0  ldkssxwpmemidmecebumciepifcamkci  180.000  \n",
       "1  lxidpiddsbxsbosboudacockeimpuepw   43.648  \n",
       "2  kamkkxfxxuwbdslkwifmmcsiusiuosws   13.800  \n",
       "3  kamkkxfxxuwbdslkwifmmcsiusiuosws   13.856  \n",
       "4  kamkkxfxxuwbdslkwifmmcsiusiuosws   13.200  \n",
       "\n",
       "[5 rows x 32 columns]"
      ]
     },
     "execution_count": 3,
     "metadata": {},
     "output_type": "execute_result"
    }
   ],
   "source": [
    "train_data.head()"
   ]
  },
  {
   "cell_type": "code",
   "execution_count": 4,
   "id": "c6e9cebf",
   "metadata": {},
   "outputs": [
    {
     "name": "stdout",
     "output_type": "stream",
     "text": [
      "<class 'pandas.core.frame.DataFrame'>\n",
      "RangeIndex: 16096 entries, 0 to 16095\n",
      "Data columns (total 32 columns):\n",
      " #   Column                    Non-Null Count  Dtype  \n",
      "---  ------                    --------------  -----  \n",
      " 0   id                        16096 non-null  object \n",
      " 1   activity_new              6551 non-null   object \n",
      " 2   campaign_disc_ele         0 non-null      float64\n",
      " 3   channel_sales             11878 non-null  object \n",
      " 4   cons_12m                  16096 non-null  int64  \n",
      " 5   cons_gas_12m              16096 non-null  int64  \n",
      " 6   cons_last_month           16096 non-null  int64  \n",
      " 7   date_activ                16096 non-null  object \n",
      " 8   date_end                  16094 non-null  object \n",
      " 9   date_first_activ          3508 non-null   object \n",
      " 10  date_modif_prod           15939 non-null  object \n",
      " 11  date_renewal              16056 non-null  object \n",
      " 12  forecast_base_bill_ele    3508 non-null   float64\n",
      " 13  forecast_base_bill_year   3508 non-null   float64\n",
      " 14  forecast_bill_12m         3508 non-null   float64\n",
      " 15  forecast_cons             3508 non-null   float64\n",
      " 16  forecast_cons_12m         16096 non-null  float64\n",
      " 17  forecast_cons_year        16096 non-null  int64  \n",
      " 18  forecast_discount_energy  15970 non-null  float64\n",
      " 19  forecast_meter_rent_12m   16096 non-null  float64\n",
      " 20  forecast_price_energy_p1  15970 non-null  float64\n",
      " 21  forecast_price_energy_p2  15970 non-null  float64\n",
      " 22  forecast_price_pow_p1     15970 non-null  float64\n",
      " 23  has_gas                   16096 non-null  object \n",
      " 24  imp_cons                  16096 non-null  float64\n",
      " 25  margin_gross_pow_ele      16083 non-null  float64\n",
      " 26  margin_net_pow_ele        16083 non-null  float64\n",
      " 27  nb_prod_act               16096 non-null  int64  \n",
      " 28  net_margin                16081 non-null  float64\n",
      " 29  num_years_antig           16096 non-null  int64  \n",
      " 30  origin_up                 16009 non-null  object \n",
      " 31  pow_max                   16093 non-null  float64\n",
      "dtypes: float64(16), int64(6), object(10)\n",
      "memory usage: 3.9+ MB\n"
     ]
    }
   ],
   "source": [
    "train_data.info()"
   ]
  },
  {
   "cell_type": "code",
   "execution_count": 5,
   "id": "99b246d4",
   "metadata": {},
   "outputs": [
    {
     "data": {
      "text/html": [
       "<div>\n",
       "<style scoped>\n",
       "    .dataframe tbody tr th:only-of-type {\n",
       "        vertical-align: middle;\n",
       "    }\n",
       "\n",
       "    .dataframe tbody tr th {\n",
       "        vertical-align: top;\n",
       "    }\n",
       "\n",
       "    .dataframe thead th {\n",
       "        text-align: right;\n",
       "    }\n",
       "</style>\n",
       "<table border=\"1\" class=\"dataframe\">\n",
       "  <thead>\n",
       "    <tr style=\"text-align: right;\">\n",
       "      <th></th>\n",
       "      <th>count</th>\n",
       "      <th>mean</th>\n",
       "      <th>std</th>\n",
       "      <th>min</th>\n",
       "      <th>25%</th>\n",
       "      <th>50%</th>\n",
       "      <th>75%</th>\n",
       "      <th>max</th>\n",
       "    </tr>\n",
       "  </thead>\n",
       "  <tbody>\n",
       "    <tr>\n",
       "      <th>campaign_disc_ele</th>\n",
       "      <td>0.0</td>\n",
       "      <td>NaN</td>\n",
       "      <td>NaN</td>\n",
       "      <td>NaN</td>\n",
       "      <td>NaN</td>\n",
       "      <td>NaN</td>\n",
       "      <td>NaN</td>\n",
       "      <td>NaN</td>\n",
       "    </tr>\n",
       "    <tr>\n",
       "      <th>cons_12m</th>\n",
       "      <td>16096.0</td>\n",
       "      <td>194804.384630</td>\n",
       "      <td>679515.083441</td>\n",
       "      <td>-125276.000000</td>\n",
       "      <td>5906.250000</td>\n",
       "      <td>15332.500000</td>\n",
       "      <td>50221.500000</td>\n",
       "      <td>1.609711e+07</td>\n",
       "    </tr>\n",
       "    <tr>\n",
       "      <th>cons_gas_12m</th>\n",
       "      <td>16096.0</td>\n",
       "      <td>31911.636742</td>\n",
       "      <td>177588.456233</td>\n",
       "      <td>-3037.000000</td>\n",
       "      <td>0.000000</td>\n",
       "      <td>0.000000</td>\n",
       "      <td>0.000000</td>\n",
       "      <td>4.188440e+06</td>\n",
       "    </tr>\n",
       "    <tr>\n",
       "      <th>cons_last_month</th>\n",
       "      <td>16096.0</td>\n",
       "      <td>19461.536158</td>\n",
       "      <td>82356.756560</td>\n",
       "      <td>-91386.000000</td>\n",
       "      <td>0.000000</td>\n",
       "      <td>901.000000</td>\n",
       "      <td>4127.000000</td>\n",
       "      <td>4.538720e+06</td>\n",
       "    </tr>\n",
       "    <tr>\n",
       "      <th>forecast_base_bill_ele</th>\n",
       "      <td>3508.0</td>\n",
       "      <td>335.843857</td>\n",
       "      <td>649.406000</td>\n",
       "      <td>-364.940000</td>\n",
       "      <td>0.000000</td>\n",
       "      <td>162.955000</td>\n",
       "      <td>396.185000</td>\n",
       "      <td>1.256608e+04</td>\n",
       "    </tr>\n",
       "    <tr>\n",
       "      <th>forecast_base_bill_year</th>\n",
       "      <td>3508.0</td>\n",
       "      <td>335.843857</td>\n",
       "      <td>649.406000</td>\n",
       "      <td>-364.940000</td>\n",
       "      <td>0.000000</td>\n",
       "      <td>162.955000</td>\n",
       "      <td>396.185000</td>\n",
       "      <td>1.256608e+04</td>\n",
       "    </tr>\n",
       "    <tr>\n",
       "      <th>forecast_bill_12m</th>\n",
       "      <td>3508.0</td>\n",
       "      <td>3837.441866</td>\n",
       "      <td>5425.744327</td>\n",
       "      <td>-2503.480000</td>\n",
       "      <td>1158.175000</td>\n",
       "      <td>2187.230000</td>\n",
       "      <td>4246.555000</td>\n",
       "      <td>8.112263e+04</td>\n",
       "    </tr>\n",
       "    <tr>\n",
       "      <th>forecast_cons</th>\n",
       "      <td>3508.0</td>\n",
       "      <td>206.845165</td>\n",
       "      <td>455.634288</td>\n",
       "      <td>0.000000</td>\n",
       "      <td>0.000000</td>\n",
       "      <td>42.215000</td>\n",
       "      <td>228.117500</td>\n",
       "      <td>9.682890e+03</td>\n",
       "    </tr>\n",
       "    <tr>\n",
       "      <th>forecast_cons_12m</th>\n",
       "      <td>16096.0</td>\n",
       "      <td>2370.555949</td>\n",
       "      <td>4035.085664</td>\n",
       "      <td>-16689.260000</td>\n",
       "      <td>513.230000</td>\n",
       "      <td>1179.160000</td>\n",
       "      <td>2692.077500</td>\n",
       "      <td>1.038019e+05</td>\n",
       "    </tr>\n",
       "    <tr>\n",
       "      <th>forecast_cons_year</th>\n",
       "      <td>16096.0</td>\n",
       "      <td>1907.347229</td>\n",
       "      <td>5257.364759</td>\n",
       "      <td>-85627.000000</td>\n",
       "      <td>0.000000</td>\n",
       "      <td>378.000000</td>\n",
       "      <td>1994.250000</td>\n",
       "      <td>1.753750e+05</td>\n",
       "    </tr>\n",
       "    <tr>\n",
       "      <th>forecast_discount_energy</th>\n",
       "      <td>15970.0</td>\n",
       "      <td>0.991547</td>\n",
       "      <td>5.160969</td>\n",
       "      <td>0.000000</td>\n",
       "      <td>0.000000</td>\n",
       "      <td>0.000000</td>\n",
       "      <td>0.000000</td>\n",
       "      <td>5.000000e+01</td>\n",
       "    </tr>\n",
       "    <tr>\n",
       "      <th>forecast_meter_rent_12m</th>\n",
       "      <td>16096.0</td>\n",
       "      <td>70.309945</td>\n",
       "      <td>79.023251</td>\n",
       "      <td>-242.960000</td>\n",
       "      <td>16.230000</td>\n",
       "      <td>19.440000</td>\n",
       "      <td>131.470000</td>\n",
       "      <td>2.411690e+03</td>\n",
       "    </tr>\n",
       "    <tr>\n",
       "      <th>forecast_price_energy_p1</th>\n",
       "      <td>15970.0</td>\n",
       "      <td>0.135901</td>\n",
       "      <td>0.026252</td>\n",
       "      <td>0.000000</td>\n",
       "      <td>0.115237</td>\n",
       "      <td>0.142881</td>\n",
       "      <td>0.146348</td>\n",
       "      <td>2.739630e-01</td>\n",
       "    </tr>\n",
       "    <tr>\n",
       "      <th>forecast_price_energy_p2</th>\n",
       "      <td>15970.0</td>\n",
       "      <td>0.052951</td>\n",
       "      <td>0.048617</td>\n",
       "      <td>0.000000</td>\n",
       "      <td>0.000000</td>\n",
       "      <td>0.086163</td>\n",
       "      <td>0.098837</td>\n",
       "      <td>1.959750e-01</td>\n",
       "    </tr>\n",
       "    <tr>\n",
       "      <th>forecast_price_pow_p1</th>\n",
       "      <td>15970.0</td>\n",
       "      <td>43.533496</td>\n",
       "      <td>5.212252</td>\n",
       "      <td>-0.122184</td>\n",
       "      <td>40.606701</td>\n",
       "      <td>44.311378</td>\n",
       "      <td>44.311378</td>\n",
       "      <td>5.944471e+01</td>\n",
       "    </tr>\n",
       "    <tr>\n",
       "      <th>imp_cons</th>\n",
       "      <td>16096.0</td>\n",
       "      <td>196.123447</td>\n",
       "      <td>494.366979</td>\n",
       "      <td>-9038.210000</td>\n",
       "      <td>0.000000</td>\n",
       "      <td>44.465000</td>\n",
       "      <td>218.090000</td>\n",
       "      <td>1.504279e+04</td>\n",
       "    </tr>\n",
       "    <tr>\n",
       "      <th>margin_gross_pow_ele</th>\n",
       "      <td>16083.0</td>\n",
       "      <td>22.462276</td>\n",
       "      <td>23.700883</td>\n",
       "      <td>-525.540000</td>\n",
       "      <td>11.960000</td>\n",
       "      <td>21.090000</td>\n",
       "      <td>29.640000</td>\n",
       "      <td>3.746400e+02</td>\n",
       "    </tr>\n",
       "    <tr>\n",
       "      <th>margin_net_pow_ele</th>\n",
       "      <td>16083.0</td>\n",
       "      <td>21.460318</td>\n",
       "      <td>27.917349</td>\n",
       "      <td>-615.660000</td>\n",
       "      <td>11.950000</td>\n",
       "      <td>20.970000</td>\n",
       "      <td>29.640000</td>\n",
       "      <td>3.746400e+02</td>\n",
       "    </tr>\n",
       "    <tr>\n",
       "      <th>nb_prod_act</th>\n",
       "      <td>16096.0</td>\n",
       "      <td>1.347788</td>\n",
       "      <td>1.459808</td>\n",
       "      <td>1.000000</td>\n",
       "      <td>1.000000</td>\n",
       "      <td>1.000000</td>\n",
       "      <td>1.000000</td>\n",
       "      <td>3.200000e+01</td>\n",
       "    </tr>\n",
       "    <tr>\n",
       "      <th>net_margin</th>\n",
       "      <td>16081.0</td>\n",
       "      <td>217.987028</td>\n",
       "      <td>366.742030</td>\n",
       "      <td>-4148.990000</td>\n",
       "      <td>51.970000</td>\n",
       "      <td>119.680000</td>\n",
       "      <td>275.810000</td>\n",
       "      <td>2.457065e+04</td>\n",
       "    </tr>\n",
       "    <tr>\n",
       "      <th>num_years_antig</th>\n",
       "      <td>16096.0</td>\n",
       "      <td>5.030629</td>\n",
       "      <td>1.676101</td>\n",
       "      <td>1.000000</td>\n",
       "      <td>4.000000</td>\n",
       "      <td>5.000000</td>\n",
       "      <td>6.000000</td>\n",
       "      <td>1.600000e+01</td>\n",
       "    </tr>\n",
       "    <tr>\n",
       "      <th>pow_max</th>\n",
       "      <td>16093.0</td>\n",
       "      <td>20.604131</td>\n",
       "      <td>21.772421</td>\n",
       "      <td>1.000000</td>\n",
       "      <td>12.500000</td>\n",
       "      <td>13.856000</td>\n",
       "      <td>19.800000</td>\n",
       "      <td>5.000000e+02</td>\n",
       "    </tr>\n",
       "  </tbody>\n",
       "</table>\n",
       "</div>"
      ],
      "text/plain": [
       "                            count           mean            std  \\\n",
       "campaign_disc_ele             0.0            NaN            NaN   \n",
       "cons_12m                  16096.0  194804.384630  679515.083441   \n",
       "cons_gas_12m              16096.0   31911.636742  177588.456233   \n",
       "cons_last_month           16096.0   19461.536158   82356.756560   \n",
       "forecast_base_bill_ele     3508.0     335.843857     649.406000   \n",
       "forecast_base_bill_year    3508.0     335.843857     649.406000   \n",
       "forecast_bill_12m          3508.0    3837.441866    5425.744327   \n",
       "forecast_cons              3508.0     206.845165     455.634288   \n",
       "forecast_cons_12m         16096.0    2370.555949    4035.085664   \n",
       "forecast_cons_year        16096.0    1907.347229    5257.364759   \n",
       "forecast_discount_energy  15970.0       0.991547       5.160969   \n",
       "forecast_meter_rent_12m   16096.0      70.309945      79.023251   \n",
       "forecast_price_energy_p1  15970.0       0.135901       0.026252   \n",
       "forecast_price_energy_p2  15970.0       0.052951       0.048617   \n",
       "forecast_price_pow_p1     15970.0      43.533496       5.212252   \n",
       "imp_cons                  16096.0     196.123447     494.366979   \n",
       "margin_gross_pow_ele      16083.0      22.462276      23.700883   \n",
       "margin_net_pow_ele        16083.0      21.460318      27.917349   \n",
       "nb_prod_act               16096.0       1.347788       1.459808   \n",
       "net_margin                16081.0     217.987028     366.742030   \n",
       "num_years_antig           16096.0       5.030629       1.676101   \n",
       "pow_max                   16093.0      20.604131      21.772421   \n",
       "\n",
       "                                    min          25%           50%  \\\n",
       "campaign_disc_ele                   NaN          NaN           NaN   \n",
       "cons_12m                 -125276.000000  5906.250000  15332.500000   \n",
       "cons_gas_12m               -3037.000000     0.000000      0.000000   \n",
       "cons_last_month           -91386.000000     0.000000    901.000000   \n",
       "forecast_base_bill_ele      -364.940000     0.000000    162.955000   \n",
       "forecast_base_bill_year     -364.940000     0.000000    162.955000   \n",
       "forecast_bill_12m          -2503.480000  1158.175000   2187.230000   \n",
       "forecast_cons                  0.000000     0.000000     42.215000   \n",
       "forecast_cons_12m         -16689.260000   513.230000   1179.160000   \n",
       "forecast_cons_year        -85627.000000     0.000000    378.000000   \n",
       "forecast_discount_energy       0.000000     0.000000      0.000000   \n",
       "forecast_meter_rent_12m     -242.960000    16.230000     19.440000   \n",
       "forecast_price_energy_p1       0.000000     0.115237      0.142881   \n",
       "forecast_price_energy_p2       0.000000     0.000000      0.086163   \n",
       "forecast_price_pow_p1         -0.122184    40.606701     44.311378   \n",
       "imp_cons                   -9038.210000     0.000000     44.465000   \n",
       "margin_gross_pow_ele        -525.540000    11.960000     21.090000   \n",
       "margin_net_pow_ele          -615.660000    11.950000     20.970000   \n",
       "nb_prod_act                    1.000000     1.000000      1.000000   \n",
       "net_margin                 -4148.990000    51.970000    119.680000   \n",
       "num_years_antig                1.000000     4.000000      5.000000   \n",
       "pow_max                        1.000000    12.500000     13.856000   \n",
       "\n",
       "                                   75%           max  \n",
       "campaign_disc_ele                  NaN           NaN  \n",
       "cons_12m                  50221.500000  1.609711e+07  \n",
       "cons_gas_12m                  0.000000  4.188440e+06  \n",
       "cons_last_month            4127.000000  4.538720e+06  \n",
       "forecast_base_bill_ele      396.185000  1.256608e+04  \n",
       "forecast_base_bill_year     396.185000  1.256608e+04  \n",
       "forecast_bill_12m          4246.555000  8.112263e+04  \n",
       "forecast_cons               228.117500  9.682890e+03  \n",
       "forecast_cons_12m          2692.077500  1.038019e+05  \n",
       "forecast_cons_year         1994.250000  1.753750e+05  \n",
       "forecast_discount_energy      0.000000  5.000000e+01  \n",
       "forecast_meter_rent_12m     131.470000  2.411690e+03  \n",
       "forecast_price_energy_p1      0.146348  2.739630e-01  \n",
       "forecast_price_energy_p2      0.098837  1.959750e-01  \n",
       "forecast_price_pow_p1        44.311378  5.944471e+01  \n",
       "imp_cons                    218.090000  1.504279e+04  \n",
       "margin_gross_pow_ele         29.640000  3.746400e+02  \n",
       "margin_net_pow_ele           29.640000  3.746400e+02  \n",
       "nb_prod_act                   1.000000  3.200000e+01  \n",
       "net_margin                  275.810000  2.457065e+04  \n",
       "num_years_antig               6.000000  1.600000e+01  \n",
       "pow_max                      19.800000  5.000000e+02  "
      ]
     },
     "execution_count": 5,
     "metadata": {},
     "output_type": "execute_result"
    }
   ],
   "source": [
    "train_data.describe().T"
   ]
  },
  {
   "cell_type": "code",
   "execution_count": 6,
   "id": "c59562a0",
   "metadata": {},
   "outputs": [
    {
     "data": {
      "text/plain": [
       "(16096, 32)"
      ]
     },
     "execution_count": 6,
     "metadata": {},
     "output_type": "execute_result"
    }
   ],
   "source": [
    "train_data.shape"
   ]
  },
  {
   "cell_type": "code",
   "execution_count": 7,
   "id": "460080b6",
   "metadata": {},
   "outputs": [
    {
     "data": {
      "text/plain": [
       "campaign_disc_ele           100.000000\n",
       "forecast_bill_12m            78.205765\n",
       "date_first_activ             78.205765\n",
       "forecast_cons                78.205765\n",
       "forecast_base_bill_ele       78.205765\n",
       "forecast_base_bill_year      78.205765\n",
       "activity_new                 59.300447\n",
       "channel_sales                26.205268\n",
       "date_modif_prod               0.975398\n",
       "forecast_price_pow_p1         0.782803\n",
       "forecast_price_energy_p2      0.782803\n",
       "forecast_price_energy_p1      0.782803\n",
       "forecast_discount_energy      0.782803\n",
       "origin_up                     0.540507\n",
       "date_renewal                  0.248509\n",
       "net_margin                    0.093191\n",
       "margin_net_pow_ele            0.080765\n",
       "margin_gross_pow_ele          0.080765\n",
       "pow_max                       0.018638\n",
       "date_end                      0.012425\n",
       "imp_cons                      0.000000\n",
       "nb_prod_act                   0.000000\n",
       "num_years_antig               0.000000\n",
       "id                            0.000000\n",
       "has_gas                       0.000000\n",
       "forecast_meter_rent_12m       0.000000\n",
       "forecast_cons_year            0.000000\n",
       "date_activ                    0.000000\n",
       "cons_last_month               0.000000\n",
       "cons_gas_12m                  0.000000\n",
       "cons_12m                      0.000000\n",
       "forecast_cons_12m             0.000000\n",
       "dtype: float64"
      ]
     },
     "execution_count": 7,
     "metadata": {},
     "output_type": "execute_result"
    }
   ],
   "source": [
    "(train_data.isnull().sum()/train_data.shape[0]*100).sort_values(ascending = False)"
   ]
  },
  {
   "cell_type": "code",
   "execution_count": 8,
   "id": "73731ad1",
   "metadata": {},
   "outputs": [
    {
     "data": {
      "text/plain": [
       "0        lmkebamcaaclubfxadlmueccxoimlema\n",
       "1        foosdfpfkusacimwkcsosbicdxkicaua\n",
       "2                                     NaN\n",
       "3        foosdfpfkusacimwkcsosbicdxkicaua\n",
       "4        lmkebamcaaclubfxadlmueccxoimlema\n",
       "                       ...               \n",
       "16091    foosdfpfkusacimwkcsosbicdxkicaua\n",
       "16092    foosdfpfkusacimwkcsosbicdxkicaua\n",
       "16093    foosdfpfkusacimwkcsosbicdxkicaua\n",
       "16094    foosdfpfkusacimwkcsosbicdxkicaua\n",
       "16095                                 NaN\n",
       "Name: channel_sales, Length: 16096, dtype: object"
      ]
     },
     "execution_count": 8,
     "metadata": {},
     "output_type": "execute_result"
    }
   ],
   "source": [
    "train_data[\"channel_sales\"]"
   ]
  },
  {
   "cell_type": "code",
   "execution_count": 9,
   "id": "2f5771ae",
   "metadata": {},
   "outputs": [],
   "source": [
    "train_data_copy = train_data.copy()"
   ]
  },
  {
   "cell_type": "code",
   "execution_count": 10,
   "id": "a5476df2",
   "metadata": {},
   "outputs": [],
   "source": [
    "train_data_copy.drop([\"campaign_disc_ele\",\n",
    "                        \"forecast_bill_12m\",\"date_first_activ\",\"forecast_cons\",\n",
    "                        \"forecast_base_bill_ele\",\"forecast_base_bill_year\",\"activity_new\"],axis=1,inplace = True)"
   ]
  },
  {
   "cell_type": "code",
   "execution_count": 11,
   "id": "a9b062c3",
   "metadata": {},
   "outputs": [],
   "source": [
    "train_data_copy[\"channel_sales\"]=train_data_copy[\"channel_sales\"].fillna(\"new category\")"
   ]
  },
  {
   "cell_type": "code",
   "execution_count": 12,
   "id": "99519b81",
   "metadata": {},
   "outputs": [
    {
     "data": {
      "text/plain": [
       "id                          16096\n",
       "channel_sales                   8\n",
       "cons_12m                    12002\n",
       "cons_gas_12m                 2290\n",
       "cons_last_month              5308\n",
       "date_activ                   1961\n",
       "date_end                      371\n",
       "date_modif_prod              2307\n",
       "date_renewal                  398\n",
       "forecast_cons_12m           15422\n",
       "forecast_cons_year           4895\n",
       "forecast_discount_energy       14\n",
       "forecast_meter_rent_12m      3938\n",
       "forecast_price_energy_p1      617\n",
       "forecast_price_energy_p2      412\n",
       "forecast_price_pow_p1          46\n",
       "has_gas                         2\n",
       "imp_cons                     8765\n",
       "margin_gross_pow_ele         2979\n",
       "margin_net_pow_ele           3006\n",
       "nb_prod_act                    11\n",
       "net_margin                  13189\n",
       "num_years_antig                15\n",
       "origin_up                       5\n",
       "pow_max                       867\n",
       "dtype: int64"
      ]
     },
     "execution_count": 12,
     "metadata": {},
     "output_type": "execute_result"
    }
   ],
   "source": [
    "train_data_copy.nunique()"
   ]
  },
  {
   "cell_type": "code",
   "execution_count": 13,
   "id": "9c787574",
   "metadata": {},
   "outputs": [
    {
     "data": {
      "text/plain": [
       "id                            0\n",
       "channel_sales                 0\n",
       "cons_12m                      0\n",
       "cons_gas_12m                  0\n",
       "cons_last_month               0\n",
       "date_activ                    0\n",
       "date_end                      2\n",
       "date_modif_prod             157\n",
       "date_renewal                 40\n",
       "forecast_cons_12m             0\n",
       "forecast_cons_year            0\n",
       "forecast_discount_energy    126\n",
       "forecast_meter_rent_12m       0\n",
       "forecast_price_energy_p1    126\n",
       "forecast_price_energy_p2    126\n",
       "forecast_price_pow_p1       126\n",
       "has_gas                       0\n",
       "imp_cons                      0\n",
       "margin_gross_pow_ele         13\n",
       "margin_net_pow_ele           13\n",
       "nb_prod_act                   0\n",
       "net_margin                   15\n",
       "num_years_antig               0\n",
       "origin_up                    87\n",
       "pow_max                       3\n",
       "dtype: int64"
      ]
     },
     "execution_count": 13,
     "metadata": {},
     "output_type": "execute_result"
    }
   ],
   "source": [
    "train_data_copy.isnull().sum()"
   ]
  },
  {
   "cell_type": "code",
   "execution_count": 14,
   "id": "86f6deee",
   "metadata": {},
   "outputs": [],
   "source": [
    "train_data_copy[[\"date_end\",\"date_modif_prod\",\"date_renewal\"]] = train_data_copy[[\"date_end\",\"date_modif_prod\",\n",
    "                                                                                  \"date_renewal\"]].fillna(method=\"bfill\")"
   ]
  },
  {
   "cell_type": "code",
   "execution_count": 15,
   "id": "5a55eb91",
   "metadata": {},
   "outputs": [],
   "source": [
    "# date_modif_prod             157\n",
    "# forecast_price_pow_p1       126\n",
    "# forecast_price_energy_p2    126\n",
    "# forecast_price_energy_p1    126\n",
    "# forecast_discount_energy    126\n",
    "# origin_up                    87\n",
    "# date_renewal                 40\n",
    "# net_margin                   15\n",
    "# margin_net_pow_ele           13\n",
    "# margin_gross_pow_ele         13\n",
    "# pow_max                       3\n",
    "# date_end                      2"
   ]
  },
  {
   "cell_type": "code",
   "execution_count": 16,
   "id": "ef70d7f2",
   "metadata": {},
   "outputs": [],
   "source": [
    "float_col = [\"forecast_price_pow_p1\",\"forecast_discount_energy\",\"net_margin\",\n",
    "             \"margin_net_pow_ele\",\"margin_gross_pow_ele\",\"pow_max\"]"
   ]
  },
  {
   "cell_type": "code",
   "execution_count": 17,
   "id": "1ea74024",
   "metadata": {},
   "outputs": [],
   "source": [
    "from sklearn.impute import SimpleImputer"
   ]
  },
  {
   "cell_type": "code",
   "execution_count": 18,
   "id": "ab19650b",
   "metadata": {},
   "outputs": [],
   "source": [
    "imp = SimpleImputer(missing_values=np.nan, strategy=\"most_frequent\")\n",
    "for col in float_col:\n",
    "    train_data_copy[[col]] = imp.fit_transform(train_data_copy[[col]])"
   ]
  },
  {
   "cell_type": "code",
   "execution_count": 19,
   "id": "69f7966b",
   "metadata": {},
   "outputs": [],
   "source": [
    "for col in float_col:\n",
    "    train_data_copy[col] = train_data_copy[col].astype(int,errors=\"ignore\")"
   ]
  },
  {
   "cell_type": "code",
   "execution_count": 20,
   "id": "00653e1c",
   "metadata": {},
   "outputs": [],
   "source": [
    "train = pd.merge(train_data_copy,train_out,on=\"id\")"
   ]
  },
  {
   "cell_type": "code",
   "execution_count": 21,
   "id": "1a991295",
   "metadata": {},
   "outputs": [
    {
     "data": {
      "text/plain": [
       "(16096, 26)"
      ]
     },
     "execution_count": 21,
     "metadata": {},
     "output_type": "execute_result"
    }
   ],
   "source": [
    "train.shape"
   ]
  },
  {
   "cell_type": "code",
   "execution_count": 22,
   "id": "ab769a47",
   "metadata": {},
   "outputs": [
    {
     "name": "stdout",
     "output_type": "stream",
     "text": [
      "<class 'pandas.core.frame.DataFrame'>\n",
      "Int64Index: 16096 entries, 0 to 16095\n",
      "Data columns (total 26 columns):\n",
      " #   Column                    Non-Null Count  Dtype  \n",
      "---  ------                    --------------  -----  \n",
      " 0   id                        16096 non-null  object \n",
      " 1   channel_sales             16096 non-null  object \n",
      " 2   cons_12m                  16096 non-null  int64  \n",
      " 3   cons_gas_12m              16096 non-null  int64  \n",
      " 4   cons_last_month           16096 non-null  int64  \n",
      " 5   date_activ                16096 non-null  object \n",
      " 6   date_end                  16096 non-null  object \n",
      " 7   date_modif_prod           16096 non-null  object \n",
      " 8   date_renewal              16096 non-null  object \n",
      " 9   forecast_cons_12m         16096 non-null  float64\n",
      " 10  forecast_cons_year        16096 non-null  int64  \n",
      " 11  forecast_discount_energy  16096 non-null  int32  \n",
      " 12  forecast_meter_rent_12m   16096 non-null  float64\n",
      " 13  forecast_price_energy_p1  15970 non-null  float64\n",
      " 14  forecast_price_energy_p2  15970 non-null  float64\n",
      " 15  forecast_price_pow_p1     16096 non-null  int32  \n",
      " 16  has_gas                   16096 non-null  object \n",
      " 17  imp_cons                  16096 non-null  float64\n",
      " 18  margin_gross_pow_ele      16096 non-null  int32  \n",
      " 19  margin_net_pow_ele        16096 non-null  int32  \n",
      " 20  nb_prod_act               16096 non-null  int64  \n",
      " 21  net_margin                16096 non-null  int32  \n",
      " 22  num_years_antig           16096 non-null  int64  \n",
      " 23  origin_up                 16009 non-null  object \n",
      " 24  pow_max                   16096 non-null  int32  \n",
      " 25  churn                     16096 non-null  int64  \n",
      "dtypes: float64(5), int32(6), int64(7), object(8)\n",
      "memory usage: 2.9+ MB\n"
     ]
    }
   ],
   "source": [
    "train.info()"
   ]
  },
  {
   "cell_type": "code",
   "execution_count": 23,
   "id": "e18d2260",
   "metadata": {},
   "outputs": [
    {
     "data": {
      "text/html": [
       "<div>\n",
       "<style scoped>\n",
       "    .dataframe tbody tr th:only-of-type {\n",
       "        vertical-align: middle;\n",
       "    }\n",
       "\n",
       "    .dataframe tbody tr th {\n",
       "        vertical-align: top;\n",
       "    }\n",
       "\n",
       "    .dataframe thead th {\n",
       "        text-align: right;\n",
       "    }\n",
       "</style>\n",
       "<table border=\"1\" class=\"dataframe\">\n",
       "  <thead>\n",
       "    <tr style=\"text-align: right;\">\n",
       "      <th></th>\n",
       "      <th>id</th>\n",
       "      <th>channel_sales</th>\n",
       "      <th>cons_12m</th>\n",
       "      <th>cons_gas_12m</th>\n",
       "      <th>cons_last_month</th>\n",
       "      <th>date_activ</th>\n",
       "      <th>date_end</th>\n",
       "      <th>date_modif_prod</th>\n",
       "      <th>date_renewal</th>\n",
       "      <th>forecast_cons_12m</th>\n",
       "      <th>...</th>\n",
       "      <th>has_gas</th>\n",
       "      <th>imp_cons</th>\n",
       "      <th>margin_gross_pow_ele</th>\n",
       "      <th>margin_net_pow_ele</th>\n",
       "      <th>nb_prod_act</th>\n",
       "      <th>net_margin</th>\n",
       "      <th>num_years_antig</th>\n",
       "      <th>origin_up</th>\n",
       "      <th>pow_max</th>\n",
       "      <th>churn</th>\n",
       "    </tr>\n",
       "  </thead>\n",
       "  <tbody>\n",
       "    <tr>\n",
       "      <th>0</th>\n",
       "      <td>48ada52261e7cf58715202705a0451c9</td>\n",
       "      <td>lmkebamcaaclubfxadlmueccxoimlema</td>\n",
       "      <td>309275</td>\n",
       "      <td>0</td>\n",
       "      <td>10025</td>\n",
       "      <td>2012-11-07</td>\n",
       "      <td>2016-11-06</td>\n",
       "      <td>2012-11-07</td>\n",
       "      <td>2015-11-09</td>\n",
       "      <td>26520.30</td>\n",
       "      <td>...</td>\n",
       "      <td>f</td>\n",
       "      <td>831.8</td>\n",
       "      <td>-41</td>\n",
       "      <td>-41</td>\n",
       "      <td>1</td>\n",
       "      <td>1732</td>\n",
       "      <td>3</td>\n",
       "      <td>ldkssxwpmemidmecebumciepifcamkci</td>\n",
       "      <td>180</td>\n",
       "      <td>0</td>\n",
       "    </tr>\n",
       "    <tr>\n",
       "      <th>1</th>\n",
       "      <td>24011ae4ebbe3035111d65fa7c15bc57</td>\n",
       "      <td>foosdfpfkusacimwkcsosbicdxkicaua</td>\n",
       "      <td>0</td>\n",
       "      <td>54946</td>\n",
       "      <td>0</td>\n",
       "      <td>2013-06-15</td>\n",
       "      <td>2016-06-15</td>\n",
       "      <td>2009-08-21</td>\n",
       "      <td>2015-06-23</td>\n",
       "      <td>0.00</td>\n",
       "      <td>...</td>\n",
       "      <td>t</td>\n",
       "      <td>0.0</td>\n",
       "      <td>25</td>\n",
       "      <td>25</td>\n",
       "      <td>2</td>\n",
       "      <td>678</td>\n",
       "      <td>3</td>\n",
       "      <td>lxidpiddsbxsbosboudacockeimpuepw</td>\n",
       "      <td>43</td>\n",
       "      <td>1</td>\n",
       "    </tr>\n",
       "    <tr>\n",
       "      <th>2</th>\n",
       "      <td>d29c2c54acc38ff3c0614d0a653813dd</td>\n",
       "      <td>new category</td>\n",
       "      <td>4660</td>\n",
       "      <td>0</td>\n",
       "      <td>0</td>\n",
       "      <td>2009-08-21</td>\n",
       "      <td>2016-08-30</td>\n",
       "      <td>2009-08-21</td>\n",
       "      <td>2015-08-31</td>\n",
       "      <td>189.95</td>\n",
       "      <td>...</td>\n",
       "      <td>f</td>\n",
       "      <td>0.0</td>\n",
       "      <td>16</td>\n",
       "      <td>16</td>\n",
       "      <td>1</td>\n",
       "      <td>18</td>\n",
       "      <td>6</td>\n",
       "      <td>kamkkxfxxuwbdslkwifmmcsiusiuosws</td>\n",
       "      <td>13</td>\n",
       "      <td>0</td>\n",
       "    </tr>\n",
       "    <tr>\n",
       "      <th>3</th>\n",
       "      <td>764c75f661154dac3a6c254cd082ea7d</td>\n",
       "      <td>foosdfpfkusacimwkcsosbicdxkicaua</td>\n",
       "      <td>544</td>\n",
       "      <td>0</td>\n",
       "      <td>0</td>\n",
       "      <td>2010-04-16</td>\n",
       "      <td>2016-04-16</td>\n",
       "      <td>2010-04-16</td>\n",
       "      <td>2015-04-17</td>\n",
       "      <td>47.96</td>\n",
       "      <td>...</td>\n",
       "      <td>f</td>\n",
       "      <td>0.0</td>\n",
       "      <td>28</td>\n",
       "      <td>28</td>\n",
       "      <td>1</td>\n",
       "      <td>6</td>\n",
       "      <td>6</td>\n",
       "      <td>kamkkxfxxuwbdslkwifmmcsiusiuosws</td>\n",
       "      <td>13</td>\n",
       "      <td>0</td>\n",
       "    </tr>\n",
       "    <tr>\n",
       "      <th>4</th>\n",
       "      <td>bba03439a292a1e166f80264c16191cb</td>\n",
       "      <td>lmkebamcaaclubfxadlmueccxoimlema</td>\n",
       "      <td>1584</td>\n",
       "      <td>0</td>\n",
       "      <td>0</td>\n",
       "      <td>2010-03-30</td>\n",
       "      <td>2016-03-30</td>\n",
       "      <td>2010-03-30</td>\n",
       "      <td>2015-03-31</td>\n",
       "      <td>240.04</td>\n",
       "      <td>...</td>\n",
       "      <td>f</td>\n",
       "      <td>0.0</td>\n",
       "      <td>30</td>\n",
       "      <td>30</td>\n",
       "      <td>1</td>\n",
       "      <td>25</td>\n",
       "      <td>6</td>\n",
       "      <td>kamkkxfxxuwbdslkwifmmcsiusiuosws</td>\n",
       "      <td>13</td>\n",
       "      <td>0</td>\n",
       "    </tr>\n",
       "  </tbody>\n",
       "</table>\n",
       "<p>5 rows × 26 columns</p>\n",
       "</div>"
      ],
      "text/plain": [
       "                                 id                     channel_sales  \\\n",
       "0  48ada52261e7cf58715202705a0451c9  lmkebamcaaclubfxadlmueccxoimlema   \n",
       "1  24011ae4ebbe3035111d65fa7c15bc57  foosdfpfkusacimwkcsosbicdxkicaua   \n",
       "2  d29c2c54acc38ff3c0614d0a653813dd                      new category   \n",
       "3  764c75f661154dac3a6c254cd082ea7d  foosdfpfkusacimwkcsosbicdxkicaua   \n",
       "4  bba03439a292a1e166f80264c16191cb  lmkebamcaaclubfxadlmueccxoimlema   \n",
       "\n",
       "   cons_12m  cons_gas_12m  cons_last_month  date_activ    date_end  \\\n",
       "0    309275             0            10025  2012-11-07  2016-11-06   \n",
       "1         0         54946                0  2013-06-15  2016-06-15   \n",
       "2      4660             0                0  2009-08-21  2016-08-30   \n",
       "3       544             0                0  2010-04-16  2016-04-16   \n",
       "4      1584             0                0  2010-03-30  2016-03-30   \n",
       "\n",
       "  date_modif_prod date_renewal  forecast_cons_12m  ...  has_gas  imp_cons  \\\n",
       "0      2012-11-07   2015-11-09           26520.30  ...        f     831.8   \n",
       "1      2009-08-21   2015-06-23               0.00  ...        t       0.0   \n",
       "2      2009-08-21   2015-08-31             189.95  ...        f       0.0   \n",
       "3      2010-04-16   2015-04-17              47.96  ...        f       0.0   \n",
       "4      2010-03-30   2015-03-31             240.04  ...        f       0.0   \n",
       "\n",
       "   margin_gross_pow_ele  margin_net_pow_ele  nb_prod_act  net_margin  \\\n",
       "0                   -41                 -41            1        1732   \n",
       "1                    25                  25            2         678   \n",
       "2                    16                  16            1          18   \n",
       "3                    28                  28            1           6   \n",
       "4                    30                  30            1          25   \n",
       "\n",
       "  num_years_antig                         origin_up  pow_max  churn  \n",
       "0               3  ldkssxwpmemidmecebumciepifcamkci      180      0  \n",
       "1               3  lxidpiddsbxsbosboudacockeimpuepw       43      1  \n",
       "2               6  kamkkxfxxuwbdslkwifmmcsiusiuosws       13      0  \n",
       "3               6  kamkkxfxxuwbdslkwifmmcsiusiuosws       13      0  \n",
       "4               6  kamkkxfxxuwbdslkwifmmcsiusiuosws       13      0  \n",
       "\n",
       "[5 rows x 26 columns]"
      ]
     },
     "execution_count": 23,
     "metadata": {},
     "output_type": "execute_result"
    }
   ],
   "source": [
    "train.head()"
   ]
  },
  {
   "cell_type": "code",
   "execution_count": 24,
   "id": "3bd3c2ba",
   "metadata": {},
   "outputs": [
    {
     "data": {
      "text/plain": [
       "foosdfpfkusacimwkcsosbicdxkicaua    7377\n",
       "new category                        4218\n",
       "lmkebamcaaclubfxadlmueccxoimlema    2073\n",
       "usilxuppasemubllopkaafesmlibmsdf    1444\n",
       "ewpakwlliwisiwduibdlfmalxowmwpci     966\n",
       "sddiedcslfslkckwlfkdpoeeailfpeds      12\n",
       "epumfxlbckeskwekxbiuasklxalciiuu       4\n",
       "fixdbufsefwooaasfcxdxadsiekoceaa       2\n",
       "Name: channel_sales, dtype: int64"
      ]
     },
     "execution_count": 24,
     "metadata": {},
     "output_type": "execute_result"
    }
   ],
   "source": [
    "train[\"channel_sales\"].value_counts()"
   ]
  },
  {
   "cell_type": "code",
   "execution_count": 25,
   "id": "926a40b6",
   "metadata": {},
   "outputs": [
    {
     "data": {
      "text/html": [
       "<div>\n",
       "<style scoped>\n",
       "    .dataframe tbody tr th:only-of-type {\n",
       "        vertical-align: middle;\n",
       "    }\n",
       "\n",
       "    .dataframe tbody tr th {\n",
       "        vertical-align: top;\n",
       "    }\n",
       "\n",
       "    .dataframe thead th {\n",
       "        text-align: right;\n",
       "    }\n",
       "</style>\n",
       "<table border=\"1\" class=\"dataframe\">\n",
       "  <thead>\n",
       "    <tr style=\"text-align: right;\">\n",
       "      <th>churn</th>\n",
       "      <th>0</th>\n",
       "      <th>1</th>\n",
       "    </tr>\n",
       "    <tr>\n",
       "      <th>channel_sales</th>\n",
       "      <th></th>\n",
       "      <th></th>\n",
       "    </tr>\n",
       "  </thead>\n",
       "  <tbody>\n",
       "    <tr>\n",
       "      <th>foosdfpfkusacimwkcsosbicdxkicaua</th>\n",
       "      <td>6455.0</td>\n",
       "      <td>922.0</td>\n",
       "    </tr>\n",
       "    <tr>\n",
       "      <th>new category</th>\n",
       "      <td>3893.0</td>\n",
       "      <td>325.0</td>\n",
       "    </tr>\n",
       "    <tr>\n",
       "      <th>usilxuppasemubllopkaafesmlibmsdf</th>\n",
       "      <td>1294.0</td>\n",
       "      <td>150.0</td>\n",
       "    </tr>\n",
       "    <tr>\n",
       "      <th>lmkebamcaaclubfxadlmueccxoimlema</th>\n",
       "      <td>1957.0</td>\n",
       "      <td>116.0</td>\n",
       "    </tr>\n",
       "    <tr>\n",
       "      <th>ewpakwlliwisiwduibdlfmalxowmwpci</th>\n",
       "      <td>884.0</td>\n",
       "      <td>82.0</td>\n",
       "    </tr>\n",
       "  </tbody>\n",
       "</table>\n",
       "</div>"
      ],
      "text/plain": [
       "churn                                  0      1\n",
       "channel_sales                                  \n",
       "foosdfpfkusacimwkcsosbicdxkicaua  6455.0  922.0\n",
       "new category                      3893.0  325.0\n",
       "usilxuppasemubllopkaafesmlibmsdf  1294.0  150.0\n",
       "lmkebamcaaclubfxadlmueccxoimlema  1957.0  116.0\n",
       "ewpakwlliwisiwduibdlfmalxowmwpci   884.0   82.0"
      ]
     },
     "execution_count": 25,
     "metadata": {},
     "output_type": "execute_result"
    }
   ],
   "source": [
    "sales = train[[\"channel_sales\",\n",
    "               \"churn\",\"id\"]].groupby([\"channel_sales\",\n",
    "                                                       \"churn\"])[\"id\"].count().unstack(level=1).sort_values(by=1,\n",
    "                                                                                                            ascending = False)[:5]\n",
    "sales"
   ]
  },
  {
   "cell_type": "code",
   "execution_count": 26,
   "id": "d7b19ac3",
   "metadata": {},
   "outputs": [],
   "source": [
    "sales_percentage = sales.div(sales.sum(axis=1),axis=0)*100"
   ]
  },
  {
   "cell_type": "code",
   "execution_count": 27,
   "id": "f010b8a7",
   "metadata": {},
   "outputs": [
    {
     "data": {
      "text/html": [
       "<div>\n",
       "<style scoped>\n",
       "    .dataframe tbody tr th:only-of-type {\n",
       "        vertical-align: middle;\n",
       "    }\n",
       "\n",
       "    .dataframe tbody tr th {\n",
       "        vertical-align: top;\n",
       "    }\n",
       "\n",
       "    .dataframe thead th {\n",
       "        text-align: right;\n",
       "    }\n",
       "</style>\n",
       "<table border=\"1\" class=\"dataframe\">\n",
       "  <thead>\n",
       "    <tr style=\"text-align: right;\">\n",
       "      <th>churn</th>\n",
       "      <th>0</th>\n",
       "      <th>1</th>\n",
       "    </tr>\n",
       "    <tr>\n",
       "      <th>channel_sales</th>\n",
       "      <th></th>\n",
       "      <th></th>\n",
       "    </tr>\n",
       "  </thead>\n",
       "  <tbody>\n",
       "    <tr>\n",
       "      <th>foosdfpfkusacimwkcsosbicdxkicaua</th>\n",
       "      <td>87.501694</td>\n",
       "      <td>12.498306</td>\n",
       "    </tr>\n",
       "    <tr>\n",
       "      <th>new category</th>\n",
       "      <td>92.294927</td>\n",
       "      <td>7.705073</td>\n",
       "    </tr>\n",
       "    <tr>\n",
       "      <th>usilxuppasemubllopkaafesmlibmsdf</th>\n",
       "      <td>89.612188</td>\n",
       "      <td>10.387812</td>\n",
       "    </tr>\n",
       "    <tr>\n",
       "      <th>lmkebamcaaclubfxadlmueccxoimlema</th>\n",
       "      <td>94.404245</td>\n",
       "      <td>5.595755</td>\n",
       "    </tr>\n",
       "    <tr>\n",
       "      <th>ewpakwlliwisiwduibdlfmalxowmwpci</th>\n",
       "      <td>91.511387</td>\n",
       "      <td>8.488613</td>\n",
       "    </tr>\n",
       "  </tbody>\n",
       "</table>\n",
       "</div>"
      ],
      "text/plain": [
       "churn                                     0          1\n",
       "channel_sales                                         \n",
       "foosdfpfkusacimwkcsosbicdxkicaua  87.501694  12.498306\n",
       "new category                      92.294927   7.705073\n",
       "usilxuppasemubllopkaafesmlibmsdf  89.612188  10.387812\n",
       "lmkebamcaaclubfxadlmueccxoimlema  94.404245   5.595755\n",
       "ewpakwlliwisiwduibdlfmalxowmwpci  91.511387   8.488613"
      ]
     },
     "execution_count": 27,
     "metadata": {},
     "output_type": "execute_result"
    }
   ],
   "source": [
    "sales_percentage"
   ]
  },
  {
   "cell_type": "code",
   "execution_count": 28,
   "id": "0bd7fe9e",
   "metadata": {},
   "outputs": [
    {
     "data": {
      "image/png": "[encoded data removed]",
      "text/plain": [
       "<Figure size 1296x720 with 1 Axes>"
      ]
     },
     "metadata": {
      "needs_background": "light"
     },
     "output_type": "display_data"
    }
   ],
   "source": [
    "sales.plot(kind=\"bar\",\n",
    " figsize=(18,10),\n",
    " stacked=True,\n",
    "rot=0,\n",
    " title= \"Top 5 sales channel with highest Churn Rate\")\n",
    "# Rename legend\n",
    "plt.legend([\"Retention\", \"Churn\"], loc=\"upper right\")\n",
    "# Labels\n",
    "plt.ylabel(\"No. of Consumers\")\n",
    "plt.xlabel(\"Channel_sales\")\n",
    "plt.show()"
   ]
  },
  {
   "cell_type": "code",
   "execution_count": 29,
   "id": "a22939ba",
   "metadata": {},
   "outputs": [
    {
     "data": {
      "text/html": [
       "<div>\n",
       "<style scoped>\n",
       "    .dataframe tbody tr th:only-of-type {\n",
       "        vertical-align: middle;\n",
       "    }\n",
       "\n",
       "    .dataframe tbody tr th {\n",
       "        vertical-align: top;\n",
       "    }\n",
       "\n",
       "    .dataframe thead th {\n",
       "        text-align: right;\n",
       "    }\n",
       "</style>\n",
       "<table border=\"1\" class=\"dataframe\">\n",
       "  <thead>\n",
       "    <tr style=\"text-align: right;\">\n",
       "      <th>churn</th>\n",
       "      <th>0</th>\n",
       "      <th>1</th>\n",
       "    </tr>\n",
       "    <tr>\n",
       "      <th>has_gas</th>\n",
       "      <th></th>\n",
       "      <th></th>\n",
       "    </tr>\n",
       "  </thead>\n",
       "  <tbody>\n",
       "    <tr>\n",
       "      <th>f</th>\n",
       "      <td>11771</td>\n",
       "      <td>1361</td>\n",
       "    </tr>\n",
       "    <tr>\n",
       "      <th>t</th>\n",
       "      <td>2730</td>\n",
       "      <td>234</td>\n",
       "    </tr>\n",
       "  </tbody>\n",
       "</table>\n",
       "</div>"
      ],
      "text/plain": [
       "churn        0     1\n",
       "has_gas             \n",
       "f        11771  1361\n",
       "t         2730   234"
      ]
     },
     "execution_count": 29,
     "metadata": {},
     "output_type": "execute_result"
    }
   ],
   "source": [
    "gas = train[[\"has_gas\",\n",
    "               \"churn\",\"id\"]].groupby([\"has_gas\",\n",
    "                                         \"churn\"])[\"id\"].count().unstack(level=1).sort_values(by=1,\n",
    "                                                                                                ascending = False)\n",
    "gas"
   ]
  },
  {
   "cell_type": "code",
   "execution_count": 30,
   "id": "97b6b1d3",
   "metadata": {},
   "outputs": [
    {
     "data": {
      "text/html": [
       "<div>\n",
       "<style scoped>\n",
       "    .dataframe tbody tr th:only-of-type {\n",
       "        vertical-align: middle;\n",
       "    }\n",
       "\n",
       "    .dataframe tbody tr th {\n",
       "        vertical-align: top;\n",
       "    }\n",
       "\n",
       "    .dataframe thead th {\n",
       "        text-align: right;\n",
       "    }\n",
       "</style>\n",
       "<table border=\"1\" class=\"dataframe\">\n",
       "  <thead>\n",
       "    <tr style=\"text-align: right;\">\n",
       "      <th>churn</th>\n",
       "      <th>0</th>\n",
       "      <th>1</th>\n",
       "    </tr>\n",
       "    <tr>\n",
       "      <th>has_gas</th>\n",
       "      <th></th>\n",
       "      <th></th>\n",
       "    </tr>\n",
       "  </thead>\n",
       "  <tbody>\n",
       "    <tr>\n",
       "      <th>f</th>\n",
       "      <td>89.636004</td>\n",
       "      <td>10.363996</td>\n",
       "    </tr>\n",
       "    <tr>\n",
       "      <th>t</th>\n",
       "      <td>92.105263</td>\n",
       "      <td>7.894737</td>\n",
       "    </tr>\n",
       "  </tbody>\n",
       "</table>\n",
       "</div>"
      ],
      "text/plain": [
       "churn            0          1\n",
       "has_gas                      \n",
       "f        89.636004  10.363996\n",
       "t        92.105263   7.894737"
      ]
     },
     "execution_count": 30,
     "metadata": {},
     "output_type": "execute_result"
    }
   ],
   "source": [
    "gas_percentage = gas.div(gas.sum(axis=1),axis=0)*100\n",
    "gas_percentage"
   ]
  },
  {
   "cell_type": "code",
   "execution_count": 31,
   "id": "6f26849d",
   "metadata": {},
   "outputs": [
    {
     "data": {
      "image/png": "[encoded data removed]",
      "text/plain": [
       "<Figure size 720x720 with 1 Axes>"
      ]
     },
     "metadata": {
      "needs_background": "light"
     },
     "output_type": "display_data"
    }
   ],
   "source": [
    "gas.plot(kind=\"bar\",\n",
    " figsize=(10,10),\n",
    " stacked=True,\n",
    "rot=0,\n",
    " title= \"Churn Rate - Has Gas Connection VS No Gas Connection\")\n",
    "# Rename legend\n",
    "plt.legend([\"Retention\", \"Churn\"], loc=\"upper right\")\n",
    "# Labels\n",
    "plt.ylabel(\"No. of Consumers\")\n",
    "plt.xlabel(\"has_gas\")\n",
    "plt.show()"
   ]
  },
  {
   "cell_type": "code",
   "execution_count": 32,
   "id": "2e0e431b",
   "metadata": {},
   "outputs": [
    {
     "data": {
      "text/html": [
       "<div>\n",
       "<style scoped>\n",
       "    .dataframe tbody tr th:only-of-type {\n",
       "        vertical-align: middle;\n",
       "    }\n",
       "\n",
       "    .dataframe tbody tr th {\n",
       "        vertical-align: top;\n",
       "    }\n",
       "\n",
       "    .dataframe thead th {\n",
       "        text-align: right;\n",
       "    }\n",
       "</style>\n",
       "<table border=\"1\" class=\"dataframe\">\n",
       "  <thead>\n",
       "    <tr style=\"text-align: right;\">\n",
       "      <th>churn</th>\n",
       "      <th>0</th>\n",
       "      <th>1</th>\n",
       "    </tr>\n",
       "    <tr>\n",
       "      <th>nb_prod_act</th>\n",
       "      <th></th>\n",
       "      <th></th>\n",
       "    </tr>\n",
       "  </thead>\n",
       "  <tbody>\n",
       "    <tr>\n",
       "      <th>1</th>\n",
       "      <td>89.697452</td>\n",
       "      <td>10.302548</td>\n",
       "    </tr>\n",
       "    <tr>\n",
       "      <th>2</th>\n",
       "      <td>91.617430</td>\n",
       "      <td>8.382570</td>\n",
       "    </tr>\n",
       "    <tr>\n",
       "      <th>3</th>\n",
       "      <td>90.017825</td>\n",
       "      <td>9.982175</td>\n",
       "    </tr>\n",
       "    <tr>\n",
       "      <th>4</th>\n",
       "      <td>91.176471</td>\n",
       "      <td>8.823529</td>\n",
       "    </tr>\n",
       "    <tr>\n",
       "      <th>5</th>\n",
       "      <td>91.891892</td>\n",
       "      <td>8.108108</td>\n",
       "    </tr>\n",
       "  </tbody>\n",
       "</table>\n",
       "</div>"
      ],
      "text/plain": [
       "churn                0          1\n",
       "nb_prod_act                      \n",
       "1            89.697452  10.302548\n",
       "2            91.617430   8.382570\n",
       "3            90.017825   9.982175\n",
       "4            91.176471   8.823529\n",
       "5            91.891892   8.108108"
      ]
     },
     "execution_count": 32,
     "metadata": {},
     "output_type": "execute_result"
    }
   ],
   "source": [
    "nb = train[[\"nb_prod_act\",\n",
    "               \"churn\", \"id\"]].groupby([\n",
    "    \"nb_prod_act\",\"churn\"])[\"id\"].count().unstack(level=1).sort_values(by=[1],ascending=False)[:5]\n",
    "nb_percentage = (nb.div(nb.sum(axis=1), axis=0)*100)\n",
    "nb_percentage"
   ]
  },
  {
   "cell_type": "code",
   "execution_count": 33,
   "id": "30127628",
   "metadata": {},
   "outputs": [
    {
     "data": {
      "image/png": "[encoded data removed]",
      "text/plain": [
       "<Figure size 1296x720 with 1 Axes>"
      ]
     },
     "metadata": {
      "needs_background": "light"
     },
     "output_type": "display_data"
    }
   ],
   "source": [
    "nb.plot(kind=\"bar\",\n",
    " figsize=(18,10),\n",
    " stacked=True,\n",
    "rot=0,\n",
    " title= \"Churn Rate - No.of active connections\")\n",
    "# Rename legend\n",
    "plt.legend([\"Retention\", \"Churn\"], loc=\"upper right\")\n",
    "# Labels\n",
    "plt.ylabel(\"No. of Consumers\")\n",
    "plt.xlabel(\"active connections\")\n",
    "plt.show()"
   ]
  },
  {
   "cell_type": "code",
   "execution_count": 34,
   "id": "2ae9d5d9",
   "metadata": {},
   "outputs": [
    {
     "data": {
      "text/html": [
       "<div>\n",
       "<style scoped>\n",
       "    .dataframe tbody tr th:only-of-type {\n",
       "        vertical-align: middle;\n",
       "    }\n",
       "\n",
       "    .dataframe tbody tr th {\n",
       "        vertical-align: top;\n",
       "    }\n",
       "\n",
       "    .dataframe thead th {\n",
       "        text-align: right;\n",
       "    }\n",
       "</style>\n",
       "<table border=\"1\" class=\"dataframe\">\n",
       "  <thead>\n",
       "    <tr style=\"text-align: right;\">\n",
       "      <th>churn</th>\n",
       "      <th>0</th>\n",
       "      <th>1</th>\n",
       "    </tr>\n",
       "    <tr>\n",
       "      <th>num_years_antig</th>\n",
       "      <th></th>\n",
       "      <th></th>\n",
       "    </tr>\n",
       "  </thead>\n",
       "  <tbody>\n",
       "    <tr>\n",
       "      <th>4</th>\n",
       "      <td>87.716463</td>\n",
       "      <td>12.283537</td>\n",
       "    </tr>\n",
       "    <tr>\n",
       "      <th>3</th>\n",
       "      <td>86.543344</td>\n",
       "      <td>13.456656</td>\n",
       "    </tr>\n",
       "    <tr>\n",
       "      <th>6</th>\n",
       "      <td>92.718639</td>\n",
       "      <td>7.281361</td>\n",
       "    </tr>\n",
       "    <tr>\n",
       "      <th>5</th>\n",
       "      <td>91.302605</td>\n",
       "      <td>8.697395</td>\n",
       "    </tr>\n",
       "    <tr>\n",
       "      <th>7</th>\n",
       "      <td>91.975309</td>\n",
       "      <td>8.024691</td>\n",
       "    </tr>\n",
       "    <tr>\n",
       "      <th>11</th>\n",
       "      <td>92.796610</td>\n",
       "      <td>7.203390</td>\n",
       "    </tr>\n",
       "    <tr>\n",
       "      <th>12</th>\n",
       "      <td>88.976378</td>\n",
       "      <td>11.023622</td>\n",
       "    </tr>\n",
       "    <tr>\n",
       "      <th>8</th>\n",
       "      <td>94.059406</td>\n",
       "      <td>5.940594</td>\n",
       "    </tr>\n",
       "    <tr>\n",
       "      <th>10</th>\n",
       "      <td>93.805310</td>\n",
       "      <td>6.194690</td>\n",
       "    </tr>\n",
       "    <tr>\n",
       "      <th>2</th>\n",
       "      <td>72.727273</td>\n",
       "      <td>27.272727</td>\n",
       "    </tr>\n",
       "  </tbody>\n",
       "</table>\n",
       "</div>"
      ],
      "text/plain": [
       "churn                    0          1\n",
       "num_years_antig                      \n",
       "4                87.716463  12.283537\n",
       "3                86.543344  13.456656\n",
       "6                92.718639   7.281361\n",
       "5                91.302605   8.697395\n",
       "7                91.975309   8.024691\n",
       "11               92.796610   7.203390\n",
       "12               88.976378  11.023622\n",
       "8                94.059406   5.940594\n",
       "10               93.805310   6.194690\n",
       "2                72.727273  27.272727"
      ]
     },
     "execution_count": 34,
     "metadata": {},
     "output_type": "execute_result"
    }
   ],
   "source": [
    "antiquity = train[[\"num_years_antig\",\n",
    "               \"churn\", \"id\"]].groupby([\n",
    "    \"num_years_antig\",\"churn\"])[\"id\"].count().unstack(level=1).sort_values(by=[1],ascending=False)[:10]\n",
    "antiquity_percentage = (antiquity.div(antiquity.sum(axis=1), axis=0)*100)\n",
    "antiquity_percentage"
   ]
  },
  {
   "cell_type": "code",
   "execution_count": 35,
   "id": "33ab61f5",
   "metadata": {},
   "outputs": [
    {
     "data": {
      "image/png": "[encoded data removed]",
      "text/plain": [
       "<Figure size 1296x720 with 1 Axes>"
      ]
     },
     "metadata": {
      "needs_background": "light"
     },
     "output_type": "display_data"
    }
   ],
   "source": [
    "antiquity.plot(kind=\"bar\",\n",
    " figsize=(18,10),\n",
    " stacked=True,\n",
    "rot=0,\n",
    " title= \"Churn Rate - Antiquity of consumer\")\n",
    "# Rename legend\n",
    "plt.legend([\"Retention\", \"Churn\"], loc=\"upper right\")\n",
    "# Labels\n",
    "plt.ylabel(\"No. of Consumers\")\n",
    "plt.xlabel(\"Antiquity\")\n",
    "plt.show()"
   ]
  },
  {
   "cell_type": "code",
   "execution_count": 36,
   "id": "f873d3e6",
   "metadata": {},
   "outputs": [
    {
     "data": {
      "text/html": [
       "<div>\n",
       "<style scoped>\n",
       "    .dataframe tbody tr th:only-of-type {\n",
       "        vertical-align: middle;\n",
       "    }\n",
       "\n",
       "    .dataframe tbody tr th {\n",
       "        vertical-align: top;\n",
       "    }\n",
       "\n",
       "    .dataframe thead th {\n",
       "        text-align: right;\n",
       "    }\n",
       "</style>\n",
       "<table border=\"1\" class=\"dataframe\">\n",
       "  <thead>\n",
       "    <tr style=\"text-align: right;\">\n",
       "      <th>churn</th>\n",
       "      <th>0</th>\n",
       "      <th>1</th>\n",
       "    </tr>\n",
       "    <tr>\n",
       "      <th>origin_up</th>\n",
       "      <th></th>\n",
       "      <th></th>\n",
       "    </tr>\n",
       "  </thead>\n",
       "  <tbody>\n",
       "    <tr>\n",
       "      <th>lxidpiddsbxsbosboudacockeimpuepw</th>\n",
       "      <td>87.092652</td>\n",
       "      <td>12.907348</td>\n",
       "    </tr>\n",
       "    <tr>\n",
       "      <th>ldkssxwpmemidmecebumciepifcamkci</th>\n",
       "      <td>91.402838</td>\n",
       "      <td>8.597162</td>\n",
       "    </tr>\n",
       "    <tr>\n",
       "      <th>kamkkxfxxuwbdslkwifmmcsiusiuosws</th>\n",
       "      <td>94.133274</td>\n",
       "      <td>5.866726</td>\n",
       "    </tr>\n",
       "    <tr>\n",
       "      <th>ewxeelcelemmiwuafmddpobolfuxioce</th>\n",
       "      <td>100.000000</td>\n",
       "      <td>NaN</td>\n",
       "    </tr>\n",
       "    <tr>\n",
       "      <th>usapbepcfoloekilkwsdiboslwaxobdp</th>\n",
       "      <td>100.000000</td>\n",
       "      <td>NaN</td>\n",
       "    </tr>\n",
       "  </tbody>\n",
       "</table>\n",
       "</div>"
      ],
      "text/plain": [
       "churn                                      0          1\n",
       "origin_up                                              \n",
       "lxidpiddsbxsbosboudacockeimpuepw   87.092652  12.907348\n",
       "ldkssxwpmemidmecebumciepifcamkci   91.402838   8.597162\n",
       "kamkkxfxxuwbdslkwifmmcsiusiuosws   94.133274   5.866726\n",
       "ewxeelcelemmiwuafmddpobolfuxioce  100.000000        NaN\n",
       "usapbepcfoloekilkwsdiboslwaxobdp  100.000000        NaN"
      ]
     },
     "execution_count": 36,
     "metadata": {},
     "output_type": "execute_result"
    }
   ],
   "source": [
    "origin = train[[\"origin_up\",\n",
    "               \"churn\", \"id\"]].groupby([\n",
    "    \"origin_up\",\"churn\"])[\"id\"].count().unstack(level=1).sort_values(by=[1],ascending=False)\n",
    "origin_percentage = (origin.div(origin.sum(axis=1), axis=0)*100)\n",
    "origin_percentage"
   ]
  },
  {
   "cell_type": "code",
   "execution_count": 37,
   "id": "5c0530ba",
   "metadata": {},
   "outputs": [
    {
     "data": {
      "image/png": "[encoded data removed]",
      "text/plain": [
       "<Figure size 1296x720 with 1 Axes>"
      ]
     },
     "metadata": {
      "needs_background": "light"
     },
     "output_type": "display_data"
    }
   ],
   "source": [
    "origin.plot(kind=\"bar\",\n",
    " figsize=(18,10),\n",
    " stacked=True,\n",
    "rot=0,\n",
    " title= \"Churn Rate - code of the electricity campaign the customer first subscribed to\")\n",
    "# Rename legend\n",
    "plt.legend([\"Retention\", \"Churn\"], loc=\"upper right\")\n",
    "# Labels\n",
    "plt.ylabel(\"No. of Consumers\")\n",
    "plt.xlabel(\"origin_up\")\n",
    "plt.show()"
   ]
  },
  {
   "cell_type": "code",
   "execution_count": 38,
   "id": "7e7e4c46",
   "metadata": {},
   "outputs": [
    {
     "data": {
      "image/png": "[encoded data removed]",
      "text/plain": [
       "<Figure size 1440x1080 with 20 Axes>"
      ]
     },
     "metadata": {
      "needs_background": "light"
     },
     "output_type": "display_data"
    }
   ],
   "source": [
    "train_data_copy.hist(bins=50, figsize=(20,15))\n",
    "plt.tight_layout(pad=0.4)\n",
    "plt.show()"
   ]
  },
  {
   "cell_type": "code",
   "execution_count": 39,
   "id": "d5e7216c",
   "metadata": {},
   "outputs": [
    {
     "data": {
      "image/png": "[encoded data removed]",
      "text/plain": [
       "<Figure size 1440x1080 with 6 Axes>"
      ]
     },
     "metadata": {
      "needs_background": "light"
     },
     "output_type": "display_data"
    }
   ],
   "source": [
    "train_hist.hist(bins=50, figsize=(20,15))\n",
    "plt.tight_layout(pad=0.4)\n",
    "plt.show()"
   ]
  },
  {
   "cell_type": "code",
   "execution_count": 40,
   "id": "99b8b2ab",
   "metadata": {},
   "outputs": [],
   "source": [
    "for col in ['date_activ','date_end','date_modif_prod','date_renewal']:\n",
    "    train[col]=pd.to_datetime(train[col])"
   ]
  },
  {
   "cell_type": "code",
   "execution_count": 41,
   "id": "8930ccc8",
   "metadata": {},
   "outputs": [
    {
     "data": {
      "text/plain": [
       "Index(['id', 'channel_sales', 'cons_12m', 'cons_gas_12m', 'cons_last_month',\n",
       "       'date_activ', 'date_end', 'date_modif_prod', 'date_renewal',\n",
       "       'forecast_cons_12m', 'forecast_cons_year', 'forecast_discount_energy',\n",
       "       'forecast_meter_rent_12m', 'forecast_price_energy_p1',\n",
       "       'forecast_price_energy_p2', 'forecast_price_pow_p1', 'has_gas',\n",
       "       'imp_cons', 'margin_gross_pow_ele', 'margin_net_pow_ele', 'nb_prod_act',\n",
       "       'net_margin', 'num_years_antig', 'origin_up', 'pow_max', 'churn'],\n",
       "      dtype='object')"
      ]
     },
     "execution_count": 41,
     "metadata": {},
     "output_type": "execute_result"
    }
   ],
   "source": [
    "train.columns"
   ]
  },
  {
   "cell_type": "code",
   "execution_count": 42,
   "id": "f245f3f2",
   "metadata": {},
   "outputs": [
    {
     "data": {
      "text/plain": [
       "0        1460\n",
       "1        1096\n",
       "2        2566\n",
       "3        2192\n",
       "4        2192\n",
       "         ... \n",
       "16091    1445\n",
       "16092    1461\n",
       "16093    1460\n",
       "16094    1461\n",
       "16095    2556\n",
       "Name: tenure, Length: 16096, dtype: int64"
      ]
     },
     "execution_count": 42,
     "metadata": {},
     "output_type": "execute_result"
    }
   ],
   "source": [
    "train[\"tenure\"] = train[\"date_end\"]-train[\"date_activ\"]\n",
    "train[\"tenure\"] = train[\"tenure\"].apply(lambda x: x.days)\n",
    "train[\"tenure\"]"
   ]
  },
  {
   "cell_type": "code",
   "execution_count": 43,
   "id": "483c6408",
   "metadata": {},
   "outputs": [
    {
     "data": {
      "text/plain": [
       "0        4\n",
       "1        3\n",
       "2        7\n",
       "3        6\n",
       "4        6\n",
       "        ..\n",
       "16091    4\n",
       "16092    4\n",
       "16093    4\n",
       "16094    4\n",
       "16095    7\n",
       "Name: tenure_year, Length: 16096, dtype: int64"
      ]
     },
     "execution_count": 43,
     "metadata": {},
     "output_type": "execute_result"
    }
   ],
   "source": [
    "train[\"tenure_year\"] = train[\"tenure\"].apply(lambda x: int(np.round(x/365)))\n",
    "train[\"tenure_year\"]"
   ]
  },
  {
   "cell_type": "code",
   "execution_count": 44,
   "id": "429cd983",
   "metadata": {},
   "outputs": [
    {
     "data": {
      "text/html": [
       "<div>\n",
       "<style scoped>\n",
       "    .dataframe tbody tr th:only-of-type {\n",
       "        vertical-align: middle;\n",
       "    }\n",
       "\n",
       "    .dataframe tbody tr th {\n",
       "        vertical-align: top;\n",
       "    }\n",
       "\n",
       "    .dataframe thead th {\n",
       "        text-align: right;\n",
       "    }\n",
       "</style>\n",
       "<table border=\"1\" class=\"dataframe\">\n",
       "  <thead>\n",
       "    <tr style=\"text-align: right;\">\n",
       "      <th>churn</th>\n",
       "      <th>0</th>\n",
       "      <th>1</th>\n",
       "    </tr>\n",
       "    <tr>\n",
       "      <th>tenure_year</th>\n",
       "      <th></th>\n",
       "      <th></th>\n",
       "    </tr>\n",
       "  </thead>\n",
       "  <tbody>\n",
       "    <tr>\n",
       "      <th>1</th>\n",
       "      <td>100.000000</td>\n",
       "      <td>NaN</td>\n",
       "    </tr>\n",
       "    <tr>\n",
       "      <th>2</th>\n",
       "      <td>100.000000</td>\n",
       "      <td>NaN</td>\n",
       "    </tr>\n",
       "    <tr>\n",
       "      <th>3</th>\n",
       "      <td>85.702411</td>\n",
       "      <td>14.297589</td>\n",
       "    </tr>\n",
       "    <tr>\n",
       "      <th>4</th>\n",
       "      <td>87.172379</td>\n",
       "      <td>12.827621</td>\n",
       "    </tr>\n",
       "    <tr>\n",
       "      <th>5</th>\n",
       "      <td>89.428571</td>\n",
       "      <td>10.571429</td>\n",
       "    </tr>\n",
       "    <tr>\n",
       "      <th>6</th>\n",
       "      <td>92.407809</td>\n",
       "      <td>7.592191</td>\n",
       "    </tr>\n",
       "    <tr>\n",
       "      <th>7</th>\n",
       "      <td>92.394457</td>\n",
       "      <td>7.605543</td>\n",
       "    </tr>\n",
       "    <tr>\n",
       "      <th>8</th>\n",
       "      <td>93.188854</td>\n",
       "      <td>6.811146</td>\n",
       "    </tr>\n",
       "    <tr>\n",
       "      <th>9</th>\n",
       "      <td>95.698925</td>\n",
       "      <td>4.301075</td>\n",
       "    </tr>\n",
       "    <tr>\n",
       "      <th>10</th>\n",
       "      <td>98.000000</td>\n",
       "      <td>2.000000</td>\n",
       "    </tr>\n",
       "    <tr>\n",
       "      <th>11</th>\n",
       "      <td>93.469388</td>\n",
       "      <td>6.530612</td>\n",
       "    </tr>\n",
       "    <tr>\n",
       "      <th>12</th>\n",
       "      <td>89.634146</td>\n",
       "      <td>10.365854</td>\n",
       "    </tr>\n",
       "    <tr>\n",
       "      <th>13</th>\n",
       "      <td>92.592593</td>\n",
       "      <td>7.407407</td>\n",
       "    </tr>\n",
       "    <tr>\n",
       "      <th>16</th>\n",
       "      <td>100.000000</td>\n",
       "      <td>NaN</td>\n",
       "    </tr>\n",
       "  </tbody>\n",
       "</table>\n",
       "</div>"
      ],
      "text/plain": [
       "churn                 0          1\n",
       "tenure_year                       \n",
       "1            100.000000        NaN\n",
       "2            100.000000        NaN\n",
       "3             85.702411  14.297589\n",
       "4             87.172379  12.827621\n",
       "5             89.428571  10.571429\n",
       "6             92.407809   7.592191\n",
       "7             92.394457   7.605543\n",
       "8             93.188854   6.811146\n",
       "9             95.698925   4.301075\n",
       "10            98.000000   2.000000\n",
       "11            93.469388   6.530612\n",
       "12            89.634146  10.365854\n",
       "13            92.592593   7.407407\n",
       "16           100.000000        NaN"
      ]
     },
     "execution_count": 44,
     "metadata": {},
     "output_type": "execute_result"
    }
   ],
   "source": [
    "tenure = train[[\"tenure_year\", \"churn\", \"id\"]].groupby([\"tenure_year\",\n",
    "                                                                 \"churn\"])[\"id\"].count().unstack(level=1)\n",
    "tenure_percentage = (tenure.div(tenure.sum(axis=1), axis=0)*100)\n",
    "tenure_percentage"
   ]
  },
  {
   "cell_type": "code",
   "execution_count": 45,
   "id": "046fabc1",
   "metadata": {},
   "outputs": [
    {
     "data": {
      "image/png": "[encoded data removed]",
      "text/plain": [
       "<Figure size 1296x720 with 1 Axes>"
      ]
     },
     "metadata": {
      "needs_background": "light"
     },
     "output_type": "display_data"
    }
   ],
   "source": [
    "tenure.plot(kind=\"bar\",\n",
    " figsize=(18,10),\n",
    " stacked=True,\n",
    "rot=0,\n",
    " title= \"Tenure VS Churn Rate\")\n",
    "# Rename legend\n",
    "plt.legend([\"Retention\", \"Churn\"], loc=\"upper right\")\n",
    "# Labels\n",
    "plt.ylabel(\"No. of Consumers\")\n",
    "plt.xlabel(\"No. of years\")\n",
    "plt.show()"
   ]
  },
  {
   "cell_type": "markdown",
   "id": "af5b96d4",
   "metadata": {},
   "source": [
    "We can clearly see that churn is very low for companies which joined recently or that have made the contract a long time ago. The higher number of churners are within the 3-7 years of tenure."
   ]
  },
  {
   "cell_type": "code",
   "execution_count": 46,
   "id": "6cfa4d79",
   "metadata": {},
   "outputs": [
    {
     "data": {
      "text/plain": [
       "0        15747.916667\n",
       "1            0.000000\n",
       "2          388.333333\n",
       "3           45.333333\n",
       "4          132.000000\n",
       "             ...     \n",
       "16091     2689.166667\n",
       "16092      420.916667\n",
       "16093      -25.333333\n",
       "16094       10.916667\n",
       "16095      727.500000\n",
       "Name: bill_dev, Length: 16096, dtype: float64"
      ]
     },
     "execution_count": 46,
     "metadata": {},
     "output_type": "execute_result"
    }
   ],
   "source": [
    "train['bill_dev']=(train['cons_12m']/12)-train['cons_last_month']\n",
    "train[\"bill_dev\"]"
   ]
  },
  {
   "cell_type": "code",
   "execution_count": 47,
   "id": "574d5dcf",
   "metadata": {},
   "outputs": [
    {
     "data": {
      "text/plain": [
       "0        26520.30\n",
       "1            0.00\n",
       "2          189.95\n",
       "3           47.96\n",
       "4          240.04\n",
       "           ...   \n",
       "16091     4648.01\n",
       "16092      631.69\n",
       "16093      190.39\n",
       "16094       19.34\n",
       "16095      762.41\n",
       "Name: forecast_cons_12m, Length: 16096, dtype: float64"
      ]
     },
     "execution_count": 47,
     "metadata": {},
     "output_type": "execute_result"
    }
   ],
   "source": [
    "train[\"forecast_cons_12m\"]"
   ]
  },
  {
   "cell_type": "code",
   "execution_count": 48,
   "id": "76441c94",
   "metadata": {},
   "outputs": [
    {
     "data": {
      "text/plain": [
       "(193002, 8)"
      ]
     },
     "execution_count": 48,
     "metadata": {},
     "output_type": "execute_result"
    }
   ],
   "source": [
    "train_hist.shape"
   ]
  },
  {
   "cell_type": "code",
   "execution_count": 49,
   "id": "6e6476b7",
   "metadata": {},
   "outputs": [
    {
     "data": {
      "text/plain": [
       "id                 0\n",
       "price_date         0\n",
       "price_p1_var    1359\n",
       "price_p2_var    1359\n",
       "price_p3_var    1359\n",
       "price_p1_fix    1359\n",
       "price_p2_fix    1359\n",
       "price_p3_fix    1359\n",
       "dtype: int64"
      ]
     },
     "execution_count": 49,
     "metadata": {},
     "output_type": "execute_result"
    }
   ],
   "source": [
    "train_hist.isnull().sum()"
   ]
  },
  {
   "cell_type": "code",
   "execution_count": 50,
   "id": "8de44af8",
   "metadata": {},
   "outputs": [
    {
     "data": {
      "text/html": [
       "<div>\n",
       "<style scoped>\n",
       "    .dataframe tbody tr th:only-of-type {\n",
       "        vertical-align: middle;\n",
       "    }\n",
       "\n",
       "    .dataframe tbody tr th {\n",
       "        vertical-align: top;\n",
       "    }\n",
       "\n",
       "    .dataframe thead th {\n",
       "        text-align: right;\n",
       "    }\n",
       "</style>\n",
       "<table border=\"1\" class=\"dataframe\">\n",
       "  <thead>\n",
       "    <tr style=\"text-align: right;\">\n",
       "      <th></th>\n",
       "      <th>id</th>\n",
       "      <th>price_date</th>\n",
       "      <th>price_p1_var</th>\n",
       "      <th>price_p2_var</th>\n",
       "      <th>price_p3_var</th>\n",
       "      <th>price_p1_fix</th>\n",
       "      <th>price_p2_fix</th>\n",
       "      <th>price_p3_fix</th>\n",
       "    </tr>\n",
       "  </thead>\n",
       "  <tbody>\n",
       "    <tr>\n",
       "      <th>0</th>\n",
       "      <td>038af19179925da21a25619c5a24b745</td>\n",
       "      <td>2015-01-01</td>\n",
       "      <td>0.151367</td>\n",
       "      <td>0.0</td>\n",
       "      <td>0.0</td>\n",
       "      <td>44.266931</td>\n",
       "      <td>0.0</td>\n",
       "      <td>0.0</td>\n",
       "    </tr>\n",
       "    <tr>\n",
       "      <th>1</th>\n",
       "      <td>038af19179925da21a25619c5a24b745</td>\n",
       "      <td>2015-02-01</td>\n",
       "      <td>0.151367</td>\n",
       "      <td>0.0</td>\n",
       "      <td>0.0</td>\n",
       "      <td>44.266931</td>\n",
       "      <td>0.0</td>\n",
       "      <td>0.0</td>\n",
       "    </tr>\n",
       "    <tr>\n",
       "      <th>2</th>\n",
       "      <td>038af19179925da21a25619c5a24b745</td>\n",
       "      <td>2015-03-01</td>\n",
       "      <td>0.151367</td>\n",
       "      <td>0.0</td>\n",
       "      <td>0.0</td>\n",
       "      <td>44.266931</td>\n",
       "      <td>0.0</td>\n",
       "      <td>0.0</td>\n",
       "    </tr>\n",
       "    <tr>\n",
       "      <th>3</th>\n",
       "      <td>038af19179925da21a25619c5a24b745</td>\n",
       "      <td>2015-04-01</td>\n",
       "      <td>0.149626</td>\n",
       "      <td>0.0</td>\n",
       "      <td>0.0</td>\n",
       "      <td>44.266931</td>\n",
       "      <td>0.0</td>\n",
       "      <td>0.0</td>\n",
       "    </tr>\n",
       "    <tr>\n",
       "      <th>4</th>\n",
       "      <td>038af19179925da21a25619c5a24b745</td>\n",
       "      <td>2015-05-01</td>\n",
       "      <td>0.149626</td>\n",
       "      <td>0.0</td>\n",
       "      <td>0.0</td>\n",
       "      <td>44.266931</td>\n",
       "      <td>0.0</td>\n",
       "      <td>0.0</td>\n",
       "    </tr>\n",
       "  </tbody>\n",
       "</table>\n",
       "</div>"
      ],
      "text/plain": [
       "                                 id  price_date  price_p1_var  price_p2_var  \\\n",
       "0  038af19179925da21a25619c5a24b745  2015-01-01      0.151367           0.0   \n",
       "1  038af19179925da21a25619c5a24b745  2015-02-01      0.151367           0.0   \n",
       "2  038af19179925da21a25619c5a24b745  2015-03-01      0.151367           0.0   \n",
       "3  038af19179925da21a25619c5a24b745  2015-04-01      0.149626           0.0   \n",
       "4  038af19179925da21a25619c5a24b745  2015-05-01      0.149626           0.0   \n",
       "\n",
       "   price_p3_var  price_p1_fix  price_p2_fix  price_p3_fix  \n",
       "0           0.0     44.266931           0.0           0.0  \n",
       "1           0.0     44.266931           0.0           0.0  \n",
       "2           0.0     44.266931           0.0           0.0  \n",
       "3           0.0     44.266931           0.0           0.0  \n",
       "4           0.0     44.266931           0.0           0.0  "
      ]
     },
     "execution_count": 50,
     "metadata": {},
     "output_type": "execute_result"
    }
   ],
   "source": [
    "train_hist.head()"
   ]
  },
  {
   "cell_type": "code",
   "execution_count": 51,
   "id": "b185a0d5",
   "metadata": {},
   "outputs": [],
   "source": [
    "imp_mean = SimpleImputer(missing_values=np.nan, strategy=\"mean\")"
   ]
  },
  {
   "cell_type": "code",
   "execution_count": 52,
   "id": "d92b2c9b",
   "metadata": {},
   "outputs": [],
   "source": [
    "train_hist[[\"price_p1_var\",\"price_p2_var\",\n",
    "            \"price_p3_var\",\n",
    "            \"price_p1_fix\",\"price_p2_fix\",\n",
    "            \"price_p3_fix\"]] = imp_mean.fit_transform(train_hist[[\"price_p1_var\",\"price_p2_var\",\n",
    "                                                                    \"price_p3_var\",\"price_p1_fix\",\n",
    "                                                                   \"price_p2_fix\",\"price_p3_fix\"]])"
   ]
  },
  {
   "cell_type": "code",
   "execution_count": 53,
   "id": "9345bce3",
   "metadata": {},
   "outputs": [],
   "source": [
    "train_hist[\"price_p1\"] = train_hist[\"price_p1_fix\"]+train_hist[\"price_p1_var\"]\n",
    "train_hist[\"price_p2\"] = train_hist[\"price_p2_fix\"]+train_hist[\"price_p2_var\"]\n",
    "train_hist[\"price_p3\"] = train_hist[\"price_p3_fix\"]+train_hist[\"price_p3_var\"]"
   ]
  },
  {
   "cell_type": "code",
   "execution_count": 54,
   "id": "60d7122c",
   "metadata": {},
   "outputs": [],
   "source": [
    "train_hist.drop(['price_date','price_p1_var','price_p2_var','price_p3_var',\n",
    "                'price_p1_fix','price_p2_fix','price_p3_fix'],inplace=True,axis=1)"
   ]
  },
  {
   "cell_type": "code",
   "execution_count": 55,
   "id": "7c3581f4",
   "metadata": {},
   "outputs": [],
   "source": [
    "train=pd.merge(train_hist, train, on=['id'])"
   ]
  },
  {
   "cell_type": "code",
   "execution_count": 56,
   "id": "46e0ef8e",
   "metadata": {},
   "outputs": [],
   "source": [
    "train.fillna(0,inplace=True)"
   ]
  },
  {
   "cell_type": "code",
   "execution_count": 57,
   "id": "b1e52626",
   "metadata": {},
   "outputs": [],
   "source": [
    "y = train[\"churn\"]\n",
    "X = train.drop(labels = [\"id\",'date_activ','date_end','date_modif_prod','date_renewal',\"churn\"],axis = 1)"
   ]
  },
  {
   "cell_type": "code",
   "execution_count": 58,
   "id": "b322e120",
   "metadata": {},
   "outputs": [],
   "source": [
    "X['has_gas']=X['has_gas'].apply(lambda x:0 if x=='f' else 1)"
   ]
  },
  {
   "cell_type": "code",
   "execution_count": 59,
   "id": "d3609ac2",
   "metadata": {},
   "outputs": [
    {
     "name": "stdout",
     "output_type": "stream",
     "text": [
      "<class 'pandas.core.frame.DataFrame'>\n",
      "Int64Index: 193002 entries, 0 to 193001\n",
      "Data columns (total 26 columns):\n",
      " #   Column                    Non-Null Count   Dtype  \n",
      "---  ------                    --------------   -----  \n",
      " 0   price_p1                  193002 non-null  float64\n",
      " 1   price_p2                  193002 non-null  float64\n",
      " 2   price_p3                  193002 non-null  float64\n",
      " 3   channel_sales             193002 non-null  object \n",
      " 4   cons_12m                  193002 non-null  int64  \n",
      " 5   cons_gas_12m              193002 non-null  int64  \n",
      " 6   cons_last_month           193002 non-null  int64  \n",
      " 7   forecast_cons_12m         193002 non-null  float64\n",
      " 8   forecast_cons_year        193002 non-null  int64  \n",
      " 9   forecast_discount_energy  193002 non-null  int32  \n",
      " 10  forecast_meter_rent_12m   193002 non-null  float64\n",
      " 11  forecast_price_energy_p1  193002 non-null  float64\n",
      " 12  forecast_price_energy_p2  193002 non-null  float64\n",
      " 13  forecast_price_pow_p1     193002 non-null  int32  \n",
      " 14  has_gas                   193002 non-null  int64  \n",
      " 15  imp_cons                  193002 non-null  float64\n",
      " 16  margin_gross_pow_ele      193002 non-null  int32  \n",
      " 17  margin_net_pow_ele        193002 non-null  int32  \n",
      " 18  nb_prod_act               193002 non-null  int64  \n",
      " 19  net_margin                193002 non-null  int32  \n",
      " 20  num_years_antig           193002 non-null  int64  \n",
      " 21  origin_up                 193002 non-null  object \n",
      " 22  pow_max                   193002 non-null  int32  \n",
      " 23  tenure                    193002 non-null  int64  \n",
      " 24  tenure_year               193002 non-null  int64  \n",
      " 25  bill_dev                  193002 non-null  float64\n",
      "dtypes: float64(9), int32(6), int64(9), object(2)\n",
      "memory usage: 35.3+ MB\n"
     ]
    }
   ],
   "source": [
    "X.info()"
   ]
  },
  {
   "cell_type": "code",
   "execution_count": 60,
   "id": "8f1269ad",
   "metadata": {},
   "outputs": [
    {
     "data": {
      "text/html": [
       "<div>\n",
       "<style scoped>\n",
       "    .dataframe tbody tr th:only-of-type {\n",
       "        vertical-align: middle;\n",
       "    }\n",
       "\n",
       "    .dataframe tbody tr th {\n",
       "        vertical-align: top;\n",
       "    }\n",
       "\n",
       "    .dataframe thead th {\n",
       "        text-align: right;\n",
       "    }\n",
       "</style>\n",
       "<table border=\"1\" class=\"dataframe\">\n",
       "  <thead>\n",
       "    <tr style=\"text-align: right;\">\n",
       "      <th></th>\n",
       "      <th>price_p1</th>\n",
       "      <th>price_p2</th>\n",
       "      <th>price_p3</th>\n",
       "      <th>channel_sales</th>\n",
       "      <th>cons_12m</th>\n",
       "      <th>cons_gas_12m</th>\n",
       "      <th>cons_last_month</th>\n",
       "      <th>forecast_cons_12m</th>\n",
       "      <th>forecast_cons_year</th>\n",
       "      <th>forecast_discount_energy</th>\n",
       "      <th>...</th>\n",
       "      <th>margin_gross_pow_ele</th>\n",
       "      <th>margin_net_pow_ele</th>\n",
       "      <th>nb_prod_act</th>\n",
       "      <th>net_margin</th>\n",
       "      <th>num_years_antig</th>\n",
       "      <th>origin_up</th>\n",
       "      <th>pow_max</th>\n",
       "      <th>tenure</th>\n",
       "      <th>tenure_year</th>\n",
       "      <th>bill_dev</th>\n",
       "    </tr>\n",
       "  </thead>\n",
       "  <tbody>\n",
       "    <tr>\n",
       "      <th>0</th>\n",
       "      <td>44.418298</td>\n",
       "      <td>0.0</td>\n",
       "      <td>0.0</td>\n",
       "      <td>foosdfpfkusacimwkcsosbicdxkicaua</td>\n",
       "      <td>3576</td>\n",
       "      <td>0</td>\n",
       "      <td>630</td>\n",
       "      <td>531.5</td>\n",
       "      <td>630</td>\n",
       "      <td>0</td>\n",
       "      <td>...</td>\n",
       "      <td>21</td>\n",
       "      <td>21</td>\n",
       "      <td>1</td>\n",
       "      <td>52</td>\n",
       "      <td>3</td>\n",
       "      <td>ldkssxwpmemidmecebumciepifcamkci</td>\n",
       "      <td>13</td>\n",
       "      <td>1096</td>\n",
       "      <td>3</td>\n",
       "      <td>-332.0</td>\n",
       "    </tr>\n",
       "    <tr>\n",
       "      <th>1</th>\n",
       "      <td>44.418298</td>\n",
       "      <td>0.0</td>\n",
       "      <td>0.0</td>\n",
       "      <td>foosdfpfkusacimwkcsosbicdxkicaua</td>\n",
       "      <td>3576</td>\n",
       "      <td>0</td>\n",
       "      <td>630</td>\n",
       "      <td>531.5</td>\n",
       "      <td>630</td>\n",
       "      <td>0</td>\n",
       "      <td>...</td>\n",
       "      <td>21</td>\n",
       "      <td>21</td>\n",
       "      <td>1</td>\n",
       "      <td>52</td>\n",
       "      <td>3</td>\n",
       "      <td>ldkssxwpmemidmecebumciepifcamkci</td>\n",
       "      <td>13</td>\n",
       "      <td>1096</td>\n",
       "      <td>3</td>\n",
       "      <td>-332.0</td>\n",
       "    </tr>\n",
       "    <tr>\n",
       "      <th>2</th>\n",
       "      <td>44.418298</td>\n",
       "      <td>0.0</td>\n",
       "      <td>0.0</td>\n",
       "      <td>foosdfpfkusacimwkcsosbicdxkicaua</td>\n",
       "      <td>3576</td>\n",
       "      <td>0</td>\n",
       "      <td>630</td>\n",
       "      <td>531.5</td>\n",
       "      <td>630</td>\n",
       "      <td>0</td>\n",
       "      <td>...</td>\n",
       "      <td>21</td>\n",
       "      <td>21</td>\n",
       "      <td>1</td>\n",
       "      <td>52</td>\n",
       "      <td>3</td>\n",
       "      <td>ldkssxwpmemidmecebumciepifcamkci</td>\n",
       "      <td>13</td>\n",
       "      <td>1096</td>\n",
       "      <td>3</td>\n",
       "      <td>-332.0</td>\n",
       "    </tr>\n",
       "    <tr>\n",
       "      <th>3</th>\n",
       "      <td>44.416557</td>\n",
       "      <td>0.0</td>\n",
       "      <td>0.0</td>\n",
       "      <td>foosdfpfkusacimwkcsosbicdxkicaua</td>\n",
       "      <td>3576</td>\n",
       "      <td>0</td>\n",
       "      <td>630</td>\n",
       "      <td>531.5</td>\n",
       "      <td>630</td>\n",
       "      <td>0</td>\n",
       "      <td>...</td>\n",
       "      <td>21</td>\n",
       "      <td>21</td>\n",
       "      <td>1</td>\n",
       "      <td>52</td>\n",
       "      <td>3</td>\n",
       "      <td>ldkssxwpmemidmecebumciepifcamkci</td>\n",
       "      <td>13</td>\n",
       "      <td>1096</td>\n",
       "      <td>3</td>\n",
       "      <td>-332.0</td>\n",
       "    </tr>\n",
       "    <tr>\n",
       "      <th>4</th>\n",
       "      <td>44.416557</td>\n",
       "      <td>0.0</td>\n",
       "      <td>0.0</td>\n",
       "      <td>foosdfpfkusacimwkcsosbicdxkicaua</td>\n",
       "      <td>3576</td>\n",
       "      <td>0</td>\n",
       "      <td>630</td>\n",
       "      <td>531.5</td>\n",
       "      <td>630</td>\n",
       "      <td>0</td>\n",
       "      <td>...</td>\n",
       "      <td>21</td>\n",
       "      <td>21</td>\n",
       "      <td>1</td>\n",
       "      <td>52</td>\n",
       "      <td>3</td>\n",
       "      <td>ldkssxwpmemidmecebumciepifcamkci</td>\n",
       "      <td>13</td>\n",
       "      <td>1096</td>\n",
       "      <td>3</td>\n",
       "      <td>-332.0</td>\n",
       "    </tr>\n",
       "  </tbody>\n",
       "</table>\n",
       "<p>5 rows × 26 columns</p>\n",
       "</div>"
      ],
      "text/plain": [
       "    price_p1  price_p2  price_p3                     channel_sales  cons_12m  \\\n",
       "0  44.418298       0.0       0.0  foosdfpfkusacimwkcsosbicdxkicaua      3576   \n",
       "1  44.418298       0.0       0.0  foosdfpfkusacimwkcsosbicdxkicaua      3576   \n",
       "2  44.418298       0.0       0.0  foosdfpfkusacimwkcsosbicdxkicaua      3576   \n",
       "3  44.416557       0.0       0.0  foosdfpfkusacimwkcsosbicdxkicaua      3576   \n",
       "4  44.416557       0.0       0.0  foosdfpfkusacimwkcsosbicdxkicaua      3576   \n",
       "\n",
       "   cons_gas_12m  cons_last_month  forecast_cons_12m  forecast_cons_year  \\\n",
       "0             0              630              531.5                 630   \n",
       "1             0              630              531.5                 630   \n",
       "2             0              630              531.5                 630   \n",
       "3             0              630              531.5                 630   \n",
       "4             0              630              531.5                 630   \n",
       "\n",
       "   forecast_discount_energy  ...  margin_gross_pow_ele  margin_net_pow_ele  \\\n",
       "0                         0  ...                    21                  21   \n",
       "1                         0  ...                    21                  21   \n",
       "2                         0  ...                    21                  21   \n",
       "3                         0  ...                    21                  21   \n",
       "4                         0  ...                    21                  21   \n",
       "\n",
       "   nb_prod_act  net_margin  num_years_antig                         origin_up  \\\n",
       "0            1          52                3  ldkssxwpmemidmecebumciepifcamkci   \n",
       "1            1          52                3  ldkssxwpmemidmecebumciepifcamkci   \n",
       "2            1          52                3  ldkssxwpmemidmecebumciepifcamkci   \n",
       "3            1          52                3  ldkssxwpmemidmecebumciepifcamkci   \n",
       "4            1          52                3  ldkssxwpmemidmecebumciepifcamkci   \n",
       "\n",
       "   pow_max  tenure  tenure_year  bill_dev  \n",
       "0       13    1096            3    -332.0  \n",
       "1       13    1096            3    -332.0  \n",
       "2       13    1096            3    -332.0  \n",
       "3       13    1096            3    -332.0  \n",
       "4       13    1096            3    -332.0  \n",
       "\n",
       "[5 rows x 26 columns]"
      ]
     },
     "execution_count": 60,
     "metadata": {},
     "output_type": "execute_result"
    }
   ],
   "source": [
    "X.head()"
   ]
  },
  {
   "cell_type": "code",
   "execution_count": 61,
   "id": "b790b944",
   "metadata": {},
   "outputs": [],
   "source": [
    "X=pd.get_dummies(X,[\"channel_sales\",\"origin_up\"],drop_first=True)"
   ]
  },
  {
   "cell_type": "code",
   "execution_count": 62,
   "id": "84ed4e77",
   "metadata": {},
   "outputs": [
    {
     "name": "stdout",
     "output_type": "stream",
     "text": [
      "<class 'pandas.core.frame.DataFrame'>\n",
      "Int64Index: 193002 entries, 0 to 193001\n",
      "Data columns (total 36 columns):\n",
      " #   Column                                          Non-Null Count   Dtype  \n",
      "---  ------                                          --------------   -----  \n",
      " 0   price_p1                                        193002 non-null  float64\n",
      " 1   price_p2                                        193002 non-null  float64\n",
      " 2   price_p3                                        193002 non-null  float64\n",
      " 3   cons_12m                                        193002 non-null  int64  \n",
      " 4   cons_gas_12m                                    193002 non-null  int64  \n",
      " 5   cons_last_month                                 193002 non-null  int64  \n",
      " 6   forecast_cons_12m                               193002 non-null  float64\n",
      " 7   forecast_cons_year                              193002 non-null  int64  \n",
      " 8   forecast_discount_energy                        193002 non-null  int32  \n",
      " 9   forecast_meter_rent_12m                         193002 non-null  float64\n",
      " 10  forecast_price_energy_p1                        193002 non-null  float64\n",
      " 11  forecast_price_energy_p2                        193002 non-null  float64\n",
      " 12  forecast_price_pow_p1                           193002 non-null  int32  \n",
      " 13  has_gas                                         193002 non-null  int64  \n",
      " 14  imp_cons                                        193002 non-null  float64\n",
      " 15  margin_gross_pow_ele                            193002 non-null  int32  \n",
      " 16  margin_net_pow_ele                              193002 non-null  int32  \n",
      " 17  nb_prod_act                                     193002 non-null  int64  \n",
      " 18  net_margin                                      193002 non-null  int32  \n",
      " 19  num_years_antig                                 193002 non-null  int64  \n",
      " 20  pow_max                                         193002 non-null  int32  \n",
      " 21  tenure                                          193002 non-null  int64  \n",
      " 22  tenure_year                                     193002 non-null  int64  \n",
      " 23  bill_dev                                        193002 non-null  float64\n",
      " 24  channel_sales_ewpakwlliwisiwduibdlfmalxowmwpci  193002 non-null  uint8  \n",
      " 25  channel_sales_fixdbufsefwooaasfcxdxadsiekoceaa  193002 non-null  uint8  \n",
      " 26  channel_sales_foosdfpfkusacimwkcsosbicdxkicaua  193002 non-null  uint8  \n",
      " 27  channel_sales_lmkebamcaaclubfxadlmueccxoimlema  193002 non-null  uint8  \n",
      " 28  channel_sales_new category                      193002 non-null  uint8  \n",
      " 29  channel_sales_sddiedcslfslkckwlfkdpoeeailfpeds  193002 non-null  uint8  \n",
      " 30  channel_sales_usilxuppasemubllopkaafesmlibmsdf  193002 non-null  uint8  \n",
      " 31  origin_up_ewxeelcelemmiwuafmddpobolfuxioce      193002 non-null  uint8  \n",
      " 32  origin_up_kamkkxfxxuwbdslkwifmmcsiusiuosws      193002 non-null  uint8  \n",
      " 33  origin_up_ldkssxwpmemidmecebumciepifcamkci      193002 non-null  uint8  \n",
      " 34  origin_up_lxidpiddsbxsbosboudacockeimpuepw      193002 non-null  uint8  \n",
      " 35  origin_up_usapbepcfoloekilkwsdiboslwaxobdp      193002 non-null  uint8  \n",
      "dtypes: float64(9), int32(6), int64(9), uint8(12)\n",
      "memory usage: 34.6 MB\n"
     ]
    }
   ],
   "source": [
    "X.info()"
   ]
  },
  {
   "cell_type": "code",
   "execution_count": 63,
   "id": "c607ad62",
   "metadata": {},
   "outputs": [],
   "source": [
    "from sklearn.model_selection import train_test_split"
   ]
  },
  {
   "cell_type": "code",
   "execution_count": 64,
   "id": "91634b7c",
   "metadata": {},
   "outputs": [],
   "source": [
    "X_train, X_test, y_train, y_test = train_test_split(X, y, test_size=0.3, random_state=123)"
   ]
  },
  {
   "cell_type": "code",
   "execution_count": 65,
   "id": "28962a78",
   "metadata": {},
   "outputs": [
    {
     "data": {
      "text/plain": [
       "False"
      ]
     },
     "execution_count": 65,
     "metadata": {},
     "output_type": "execute_result"
    }
   ],
   "source": [
    "np.any(np.isnan(X_train))"
   ]
  },
  {
   "cell_type": "code",
   "execution_count": 66,
   "id": "eec20b28",
   "metadata": {},
   "outputs": [
    {
     "data": {
      "text/plain": [
       "True"
      ]
     },
     "execution_count": 66,
     "metadata": {},
     "output_type": "execute_result"
    }
   ],
   "source": [
    "np.all(np.isfinite(X_train))"
   ]
  },
  {
   "cell_type": "code",
   "execution_count": 70,
   "id": "689fb7a2",
   "metadata": {},
   "outputs": [],
   "source": [
    "from sklearn.linear_model import LogisticRegression\n",
    "from xgboost import XGBClassifier"
   ]
  },
  {
   "cell_type": "code",
   "execution_count": 71,
   "id": "b9e73958",
   "metadata": {},
   "outputs": [],
   "source": [
    "model = XGBClassifier(learning_rate=0.1,max_depth=6,n_estimators=500,n_jobs=-1,use_label_encoder=False)\n",
    "result = model.fit(X_train,y_train)"
   ]
  },
  {
   "cell_type": "code",
   "execution_count": 77,
   "id": "bb0210c0",
   "metadata": {},
   "outputs": [],
   "source": [
    "from sklearn import metrics"
   ]
  },
  {
   "cell_type": "code",
   "execution_count": 75,
   "id": "085b5899",
   "metadata": {},
   "outputs": [],
   "source": [
    "def evaluate(model_, X_test_, y_test_):\n",
    "    prediction_test_ = model_.predict(X_test_)\n",
    "\n",
    "    results = pd.DataFrame({\"Accuracy\" : [metrics.accuracy_score(y_test_, prediction_test_)],\n",
    "    \"Precision\" : [metrics.precision_score(y_test_, prediction_test_)],\n",
    "    \"Recall\" : [metrics.recall_score(y_test_, prediction_test_)]})\n",
    "    return results"
   ]
  },
  {
   "cell_type": "code",
   "execution_count": 78,
   "id": "32befcf2",
   "metadata": {},
   "outputs": [
    {
     "data": {
      "text/html": [
       "<div>\n",
       "<style scoped>\n",
       "    .dataframe tbody tr th:only-of-type {\n",
       "        vertical-align: middle;\n",
       "    }\n",
       "\n",
       "    .dataframe tbody tr th {\n",
       "        vertical-align: top;\n",
       "    }\n",
       "\n",
       "    .dataframe thead th {\n",
       "        text-align: right;\n",
       "    }\n",
       "</style>\n",
       "<table border=\"1\" class=\"dataframe\">\n",
       "  <thead>\n",
       "    <tr style=\"text-align: right;\">\n",
       "      <th></th>\n",
       "      <th>Accuracy</th>\n",
       "      <th>Precision</th>\n",
       "      <th>Recall</th>\n",
       "    </tr>\n",
       "  </thead>\n",
       "  <tbody>\n",
       "    <tr>\n",
       "      <th>0</th>\n",
       "      <td>0.977738</td>\n",
       "      <td>1.0</td>\n",
       "      <td>0.775904</td>\n",
       "    </tr>\n",
       "  </tbody>\n",
       "</table>\n",
       "</div>"
      ],
      "text/plain": [
       "   Accuracy  Precision    Recall\n",
       "0  0.977738        1.0  0.775904"
      ]
     },
     "execution_count": 78,
     "metadata": {},
     "output_type": "execute_result"
    }
   ],
   "source": [
    "evaluate(model, X_test, y_test)"
   ]
  },
  {
   "cell_type": "code",
   "execution_count": null,
   "id": "0e1dae73",
   "metadata": {},
   "outputs": [],
   "source": []
  }
 ],
 "metadata": {
  "kernelspec": {
   "display_name": "Python 3",
   "language": "python",
   "name": "python3"
  },
  "language_info": {
   "codemirror_mode": {
    "name": "ipython",
    "version": 3
   },
   "file_extension": ".py",
   "mimetype": "text/x-python",
   "name": "python",
   "nbconvert_exporter": "python",
   "pygments_lexer": "ipython3",
   "version": "3.8.8"
  }
 },
 "nbformat": 4,
 "nbformat_minor": 5
}
